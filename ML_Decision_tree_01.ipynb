{
  "cells": [
    {
      "cell_type": "markdown",
      "metadata": {
        "id": "view-in-github",
        "colab_type": "text"
      },
      "source": [
        "<a href=\"https://colab.research.google.com/github/vishnuprabhakar2001/python/blob/main/ML_Decision_tree_01.ipynb\" target=\"_parent\"><img src=\"https://colab.research.google.com/assets/colab-badge.svg\" alt=\"Open In Colab\"/></a>"
      ]
    },
    {
      "cell_type": "code",
      "execution_count": null,
      "id": "13536aeb",
      "metadata": {
        "id": "13536aeb"
      },
      "outputs": [],
      "source": [
        "import pandas as pd\n",
        "from sklearn.tree import DecisionTreeClassifier\n",
        "import joblib\n"
      ]
    },
    {
      "cell_type": "code",
      "execution_count": null,
      "id": "14ae20d0",
      "metadata": {
        "id": "14ae20d0",
        "outputId": "2df5d471-e1a4-4464-9fbf-f48d9afafece"
      },
      "outputs": [
        {
          "name": "stderr",
          "output_type": "stream",
          "text": [
            "C:\\ProgramData\\anaconda3\\Lib\\site-packages\\sklearn\\base.py:464: UserWarning: X does not have valid feature names, but DecisionTreeClassifier was fitted with feature names\n",
            "  warnings.warn(\n"
          ]
        },
        {
          "data": {
            "text/plain": [
              "array(['HipHop'], dtype=object)"
            ]
          },
          "execution_count": 62,
          "metadata": {},
          "output_type": "execute_result"
        }
      ],
      "source": [
        "# music_data=pd.read_csv('Downloads/Music.csv')\n",
        "\n",
        "# X=music_data.drop(columns=[\"genre\"])\n",
        "# Y=music_data['genre']\n",
        "\n",
        "# model= DecisionTreeClassifier()\n",
        "# model.fit(X, Y)\n",
        "\n",
        "joblib.dump(model, 'music-recommender.joblib')\n",
        "\n",
        "model=joblib.load( 'music-recommender.joblib')\n",
        "predictions=model.predict([[21,1]])\n",
        "predictions\n",
        "\n",
        "\n",
        "# prediction=model.predict([[21,1],[22,0]])\n",
        "# prediction   https://www.youtube.com/watch?v=7eh4d6sabA0&t=2028s  Link for this whole you tube video lecture"
      ]
    },
    {
      "cell_type": "code",
      "execution_count": null,
      "id": "776fdb7f",
      "metadata": {
        "id": "776fdb7f",
        "outputId": "b7808787-0503-4c50-aa7e-205e9e84f9b7"
      },
      "outputs": [
        {
          "data": {
            "text/plain": [
              "0.5"
            ]
          },
          "execution_count": 50,
          "metadata": {},
          "output_type": "execute_result"
        }
      ],
      "source": [
        "from sklearn.model_selection import train_test_split\n",
        "from sklearn.metrics import accuracy_score\n",
        "\n",
        "music_data=pd.read_csv('Downloads/Music.csv')\n",
        "X=music_data.drop(columns=[\"genre\"])\n",
        "Y=music_data['genre']\n",
        "\n",
        "x_train, x_test, y_train, y_test= train_test_split(X,Y, test_size=0.2)\n",
        "\n",
        "model= DecisionTreeClassifier()\n",
        "model.fit(x_train,y_train)\n",
        "prediction=model.predict(x_test)\n",
        "\n",
        "score=accuracy_score(y_test,prediction)\n",
        "score\n"
      ]
    },
    {
      "cell_type": "code",
      "execution_count": null,
      "id": "8bb4ecb7",
      "metadata": {
        "id": "8bb4ecb7",
        "outputId": "ea6782c4-ee8b-4ba2-b57f-6b5be682651a"
      },
      "outputs": [
        {
          "name": "stderr",
          "output_type": "stream",
          "text": [
            "C:\\ProgramData\\anaconda3\\Lib\\site-packages\\sklearn\\base.py:464: UserWarning: X does not have valid feature names, but DecisionTreeClassifier was fitted with feature names\n",
            "  warnings.warn(\n"
          ]
        },
        {
          "data": {
            "text/plain": [
              "array(['HipHop'], dtype=object)"
            ]
          },
          "execution_count": 65,
          "metadata": {},
          "output_type": "execute_result"
        }
      ],
      "source": [
        "from sklearn import tree\n",
        "\n",
        "music_data=pd.read_csv('Downloads/Music.csv')\n",
        "\n",
        "X=music_data.drop(columns=[\"genre\"])\n",
        "Y=music_data['genre']\n",
        "\n",
        "model= DecisionTreeClassifier()\n",
        "model.fit(X, Y)\n"
      ]
    }
  ],
  "metadata": {
    "kernelspec": {
      "display_name": "Python 3 (ipykernel)",
      "language": "python",
      "name": "python3"
    },
    "language_info": {
      "codemirror_mode": {
        "name": "ipython",
        "version": 3
      },
      "file_extension": ".py",
      "mimetype": "text/x-python",
      "name": "python",
      "nbconvert_exporter": "python",
      "pygments_lexer": "ipython3",
      "version": "3.11.5"
    },
    "colab": {
      "provenance": [],
      "include_colab_link": true
    }
  },
  "nbformat": 4,
  "nbformat_minor": 5
}