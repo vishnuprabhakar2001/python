{
  "nbformat": 4,
  "nbformat_minor": 0,
  "metadata": {
    "colab": {
      "provenance": [],
      "authorship_tag": "ABX9TyO349gxC/AJSM7qj4pMCZKm",
      "include_colab_link": true
    },
    "kernelspec": {
      "name": "python3",
      "display_name": "Python 3"
    },
    "language_info": {
      "name": "python"
    }
  },
  "cells": [
    {
      "cell_type": "markdown",
      "metadata": {
        "id": "view-in-github",
        "colab_type": "text"
      },
      "source": [
        "<a href=\"https://colab.research.google.com/github/vishnuprabhakar2001/python/blob/main/python_pynb.ipynb\" target=\"_parent\"><img src=\"https://colab.research.google.com/assets/colab-badge.svg\" alt=\"Open In Colab\"/></a>"
      ]
    },
    {
      "cell_type": "code",
      "execution_count": 1,
      "metadata": {
        "colab": {
          "base_uri": "https://localhost:8080/"
        },
        "id": "kAGmiRw98JHQ",
        "outputId": "e5b5f417-5eaf-4a66-c2e4-79c753144675"
      },
      "outputs": [
        {
          "output_type": "stream",
          "name": "stdout",
          "text": [
            "The gcd of 60 and 48 is : 12\n"
          ]
        }
      ],
      "source": [
        "# Python code to demonstrate the working of gcd()\n",
        "# importing \"math\" for mathematical operations\n",
        "import math\n",
        "  \n",
        "# prints 12\n",
        "print(\"The gcd of 60 and 48 is : \", end=\"\")\n",
        "print(math.gcd(60, 48))\n",
        "\n"
      ]
    },
    {
      "cell_type": "code",
      "source": [
        "# Python Program to calculate the square root\n",
        "\n",
        "# Note: change this value for a different result\n",
        "num = 8 \n",
        "\n",
        "# To take the input from the user\n",
        "#num = float(input('Enter a number: '))\n",
        "\n",
        "num_sqrt = num ** 0.5\n",
        "print('The square root of %0.3f is %0.3f'%(num ,num_sqrt))\n"
      ],
      "metadata": {
        "colab": {
          "base_uri": "https://localhost:8080/"
        },
        "id": "hsq3aqKP9ju-",
        "outputId": "06413489-7d44-4d04-fae6-98cfed7f0ed2"
      },
      "execution_count": 2,
      "outputs": [
        {
          "output_type": "stream",
          "name": "stdout",
          "text": [
            "The square root of 8.000 is 2.828\n"
          ]
        }
      ]
    }
  ]
}