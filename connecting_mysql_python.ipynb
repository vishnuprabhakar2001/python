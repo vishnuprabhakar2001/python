{
  "cells": [
    {
      "cell_type": "markdown",
      "metadata": {
        "id": "view-in-github",
        "colab_type": "text"
      },
      "source": [
        "<a href=\"https://colab.research.google.com/github/vishnuprabhakar2001/python/blob/main/connecting_mysql_python.ipynb\" target=\"_parent\"><img src=\"https://colab.research.google.com/assets/colab-badge.svg\" alt=\"Open In Colab\"/></a>"
      ]
    },
    {
      "cell_type": "code",
      "execution_count": null,
      "id": "2d3e2e07",
      "metadata": {
        "id": "2d3e2e07",
        "outputId": "b93ded7d-a3a8-4220-899c-8c5d22b74320"
      },
      "outputs": [
        {
          "name": "stdout",
          "output_type": "stream",
          "text": [
            "Defaulting to user installation because normal site-packages is not writeable\n",
            "Requirement already satisfied: mysql-connector-python in c:\\programdata\\anaconda3\\lib\\site-packages (8.2.0)\n",
            "Requirement already satisfied: protobuf<=4.21.12,>=4.21.1 in c:\\programdata\\anaconda3\\lib\\site-packages (from mysql-connector-python) (4.21.12)\n"
          ]
        }
      ],
      "source": [
        "!pip install mysql-connector-python"
      ]
    },
    {
      "cell_type": "code",
      "execution_count": null,
      "id": "9ba1f826",
      "metadata": {
        "id": "9ba1f826",
        "outputId": "da7bfafa-979f-45b7-a681-702a2c4a4623"
      },
      "outputs": [
        {
          "name": "stdout",
          "output_type": "stream",
          "text": [
            "<mysql.connector.connection_cext.CMySQLConnection object at 0x000001F872052190>\n"
          ]
        }
      ],
      "source": [
        "import mysql.connector\n",
        "mydb=mysql.connector.connect(\n",
        "    host=\"localhost\",\n",
        "    user=\"root\",\n",
        "    password=\"root\"\n",
        ")\n",
        "print(mydb)"
      ]
    },
    {
      "cell_type": "code",
      "execution_count": null,
      "id": "30fc6f99",
      "metadata": {
        "id": "30fc6f99"
      },
      "outputs": [],
      "source": [
        "# To import database\n",
        "mydb=mysql.connector.connect(\n",
        "    host=\"localhost\",\n",
        "    user=\"root\",\n",
        "    passwd=\"root\",\n",
        "    database=\"bank\"\n",
        ")"
      ]
    },
    {
      "cell_type": "code",
      "execution_count": null,
      "id": "bb08aba6",
      "metadata": {
        "id": "bb08aba6"
      },
      "outputs": [],
      "source": [
        "mycursor=mydb.cursor()\n",
        "mycursor.execute(\"create Table customer1 (name varchar(250), address varchar(255))\")\n"
      ]
    },
    {
      "cell_type": "code",
      "execution_count": null,
      "id": "ba490762",
      "metadata": {
        "id": "ba490762",
        "outputId": "42cef951-7e06-42f3-e318-755a829da0a3"
      },
      "outputs": [
        {
          "name": "stdout",
          "output_type": "stream",
          "text": [
            "('bank_details',)\n",
            "('bank_holidays',)\n",
            "('customer',)\n"
          ]
        }
      ],
      "source": [
        "# mydb=mysql.connector.connect(\n",
        "#     host=\"localhost\",\n",
        "#     user=\"root\",\n",
        "#     passwd=\"root\",\n",
        "#     database=\"bank\"\n",
        "# )\n",
        "\n",
        "# mycursor=mydb.cursor()\n",
        "mycursor.execute(\"show tables\")\n",
        "for x in mycursor:\n",
        "    print(x)\n"
      ]
    },
    {
      "cell_type": "code",
      "execution_count": null,
      "id": "7a6e7b7a",
      "metadata": {
        "id": "7a6e7b7a"
      },
      "outputs": [],
      "source": [
        "mycursor.execute(\"alter table customer1 add column id int auto_increment primary key\")\n"
      ]
    },
    {
      "cell_type": "code",
      "execution_count": null,
      "id": "3be20aba",
      "metadata": {
        "id": "3be20aba",
        "outputId": "68071c82-8437-405e-d3f7-fe25a4aafaf5"
      },
      "outputs": [
        {
          "name": "stdout",
          "output_type": "stream",
          "text": [
            "-1 record inserted\n"
          ]
        }
      ],
      "source": [
        "sql=\"INSERT INTO customer (name,address) VALUES (%s,%s)\"\n",
        "val=(\"John\",\"Highway 21\")\n",
        "mydb.commit()\n",
        "print(mycursor.rowcount,\"record inserted\")"
      ]
    },
    {
      "cell_type": "code",
      "execution_count": null,
      "id": "6a6c24d7",
      "metadata": {
        "id": "6a6c24d7",
        "outputId": "932956fe-6afa-41f5-af9e-c022d98a33ac"
      },
      "outputs": [
        {
          "name": "stdout",
          "output_type": "stream",
          "text": [
            "3 was inserted\n"
          ]
        }
      ],
      "source": [
        "mycursor=mydb.cursor()\n",
        "sql=\"insert into customer (name,address) values(%s,%s)\"\n",
        "val=[('peter','Lowstreer 4'),\n",
        "    ('Amy','apple st 652'),\n",
        "     ('Chuck','sideeay 1663')\n",
        "    ]\n",
        "mycursor.executemany(sql,val)\n",
        "mydb.commit()\n",
        "print(mycursor.rowcount,\"was inserted\")"
      ]
    },
    {
      "cell_type": "code",
      "execution_count": null,
      "id": "31290dd9",
      "metadata": {
        "id": "31290dd9",
        "outputId": "18785a79-7bab-466e-d825-af4cc5a98f6d"
      },
      "outputs": [
        {
          "name": "stdout",
          "output_type": "stream",
          "text": [
            "('peter', 'Lowstreer 4')\n",
            "('Amy', 'apple st 652')\n",
            "('Chuck', 'sideeay 1663')\n",
            "('peter', 'Lowstreer 4')\n",
            "('Amy', 'apple st 652')\n",
            "('Chuck', 'sideeay 1663')\n"
          ]
        }
      ],
      "source": [
        "mycursor=mydb.cursor()\n",
        "mycursor.execute(\"Select name, address from customer\")\n",
        "myresult=mycursor.fetchall()\n",
        "for x in myresult:\n",
        "    print(x)"
      ]
    }
  ],
  "metadata": {
    "kernelspec": {
      "display_name": "Python 3 (ipykernel)",
      "language": "python",
      "name": "python3"
    },
    "language_info": {
      "codemirror_mode": {
        "name": "ipython",
        "version": 3
      },
      "file_extension": ".py",
      "mimetype": "text/x-python",
      "name": "python",
      "nbconvert_exporter": "python",
      "pygments_lexer": "ipython3",
      "version": "3.11.5"
    },
    "colab": {
      "provenance": [],
      "include_colab_link": true
    }
  },
  "nbformat": 4,
  "nbformat_minor": 5
}