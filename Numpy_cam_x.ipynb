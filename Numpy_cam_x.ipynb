{
  "cells": [
    {
      "cell_type": "markdown",
      "metadata": {
        "id": "view-in-github",
        "colab_type": "text"
      },
      "source": [
        "<a href=\"https://colab.research.google.com/github/vishnuprabhakar2001/python/blob/main/Numpy_cam_x.ipynb\" target=\"_parent\"><img src=\"https://colab.research.google.com/assets/colab-badge.svg\" alt=\"Open In Colab\"/></a>"
      ]
    },
    {
      "cell_type": "code",
      "execution_count": null,
      "id": "79c5ac67",
      "metadata": {
        "id": "79c5ac67",
        "outputId": "0061dce7-5b95-4ea0-9adb-612cdb35b40c"
      },
      "outputs": [
        {
          "name": "stdout",
          "output_type": "stream",
          "text": [
            "Defaulting to user installation because normal site-packages is not writeable\n",
            "Requirement already satisfied: numpy in c:\\programdata\\anaconda3\\lib\\site-packages (1.24.3)\n",
            "Note: you may need to restart the kernel to use updated packages.\n"
          ]
        }
      ],
      "source": [
        "pip install numpy"
      ]
    },
    {
      "cell_type": "code",
      "execution_count": null,
      "id": "2936de56",
      "metadata": {
        "id": "2936de56"
      },
      "outputs": [],
      "source": [
        "import numpy as np"
      ]
    },
    {
      "cell_type": "code",
      "execution_count": null,
      "id": "0fffe05a",
      "metadata": {
        "id": "0fffe05a",
        "outputId": "38c7f93b-09c7-4853-937b-4569a9393bf4"
      },
      "outputs": [
        {
          "data": {
            "text/plain": [
              "array([1, 2, 3, 4])"
            ]
          },
          "execution_count": 3,
          "metadata": {},
          "output_type": "execute_result"
        }
      ],
      "source": [
        "arr1=np.array([1,2,3,4])\n",
        "arr1"
      ]
    },
    {
      "cell_type": "code",
      "execution_count": null,
      "id": "e86cd0e4",
      "metadata": {
        "id": "e86cd0e4",
        "outputId": "cde6e62c-3d53-4a1b-b7f4-7c226cfb237a"
      },
      "outputs": [
        {
          "data": {
            "text/plain": [
              "array([ 1, 23, 34,  5,  6,  6])"
            ]
          },
          "execution_count": 4,
          "metadata": {},
          "output_type": "execute_result"
        }
      ],
      "source": [
        "arr2=np.array([1,23,34,5,6,6])\n",
        "arr2"
      ]
    },
    {
      "cell_type": "code",
      "execution_count": null,
      "id": "09fb243d",
      "metadata": {
        "id": "09fb243d",
        "outputId": "5e514c95-3e2b-46ee-e9fc-037b9dffd341"
      },
      "outputs": [
        {
          "data": {
            "text/plain": [
              "array([1, 2, 3, 4, 5, 6, 7])"
            ]
          },
          "execution_count": 5,
          "metadata": {},
          "output_type": "execute_result"
        }
      ],
      "source": [
        "arr3=np.array([1,2,3,4,5,6,7])\n",
        "arr3"
      ]
    },
    {
      "cell_type": "code",
      "execution_count": null,
      "id": "dd14efbc",
      "metadata": {
        "id": "dd14efbc",
        "outputId": "4506a298-6c44-4fe2-c827-dd5179d1530d"
      },
      "outputs": [
        {
          "data": {
            "text/plain": [
              "array([[1, 2, 3],\n",
              "       [4, 5, 6]])"
            ]
          },
          "execution_count": 8,
          "metadata": {},
          "output_type": "execute_result"
        }
      ],
      "source": [
        "arr4=np.array([[1,2,3],[4,5,6]])\n",
        "arr4"
      ]
    },
    {
      "cell_type": "code",
      "execution_count": null,
      "id": "6be5f4e0",
      "metadata": {
        "id": "6be5f4e0",
        "outputId": "ef2c9ff4-7616-418e-e9a5-30754a2dbd8c"
      },
      "outputs": [
        {
          "data": {
            "text/plain": [
              "array([[1, 2, 3],\n",
              "       [4, 5, 6]])"
            ]
          },
          "execution_count": 9,
          "metadata": {},
          "output_type": "execute_result"
        }
      ],
      "source": [
        "arr5=np.array([[1,2,3],[4,5,6]])\n",
        "arr5"
      ]
    },
    {
      "cell_type": "code",
      "execution_count": null,
      "id": "03306df5",
      "metadata": {
        "id": "03306df5",
        "outputId": "c2790b45-051d-495f-a707-a418605db943"
      },
      "outputs": [
        {
          "data": {
            "text/plain": [
              "array([[0., 0., 0.],\n",
              "       [0., 0., 0.]])"
            ]
          },
          "execution_count": 10,
          "metadata": {},
          "output_type": "execute_result"
        }
      ],
      "source": [
        "arr3=np.zeros((2,3))\n",
        "arr3"
      ]
    },
    {
      "cell_type": "code",
      "execution_count": null,
      "id": "40b855c8",
      "metadata": {
        "id": "40b855c8",
        "outputId": "194ba638-437b-43d7-f4ef-36ec0af2ec61"
      },
      "outputs": [
        {
          "data": {
            "text/plain": [
              "array([[0., 0., 0., 0.],\n",
              "       [0., 0., 0., 0.]])"
            ]
          },
          "execution_count": 13,
          "metadata": {},
          "output_type": "execute_result"
        }
      ],
      "source": [
        "arr3=np.zeros((2,4))\n",
        "arr3"
      ]
    },
    {
      "cell_type": "code",
      "execution_count": null,
      "id": "ef00038a",
      "metadata": {
        "id": "ef00038a",
        "outputId": "c78a7499-f086-43f3-b33d-5e92a4f8830d"
      },
      "outputs": [
        {
          "data": {
            "text/plain": [
              "array([[1., 1., 1.],\n",
              "       [1., 1., 1.],\n",
              "       [1., 1., 1.]])"
            ]
          },
          "execution_count": 12,
          "metadata": {},
          "output_type": "execute_result"
        }
      ],
      "source": [
        "arr4=np.ones((3,3))\n",
        "arr4"
      ]
    },
    {
      "cell_type": "code",
      "execution_count": null,
      "id": "ab52cac8",
      "metadata": {
        "id": "ab52cac8",
        "outputId": "8ee7da06-7784-4157-82eb-b893786d4c65"
      },
      "outputs": [
        {
          "data": {
            "text/plain": [
              "array([[1., 0., 0., 0.],\n",
              "       [0., 1., 0., 0.],\n",
              "       [0., 0., 1., 0.],\n",
              "       [0., 0., 0., 1.]])"
            ]
          },
          "execution_count": 19,
          "metadata": {},
          "output_type": "execute_result"
        }
      ],
      "source": [
        "arr5=np.identity(4)\n",
        "arr5"
      ]
    },
    {
      "cell_type": "code",
      "execution_count": null,
      "id": "5e6147e6",
      "metadata": {
        "id": "5e6147e6",
        "outputId": "263e0531-e5ff-4d19-a5cf-834d9e390d3a"
      },
      "outputs": [
        {
          "data": {
            "text/plain": [
              "(4, 4)"
            ]
          },
          "execution_count": 20,
          "metadata": {},
          "output_type": "execute_result"
        }
      ],
      "source": [
        "arr5.shape"
      ]
    },
    {
      "cell_type": "code",
      "execution_count": null,
      "id": "1e1e368d",
      "metadata": {
        "id": "1e1e368d",
        "outputId": "5403f6d5-cdc4-4797-c91f-d9098f613d5e"
      },
      "outputs": [
        {
          "data": {
            "text/plain": [
              "array([ 5,  6,  7,  8,  9, 10, 11, 12, 13, 14, 15])"
            ]
          },
          "execution_count": 11,
          "metadata": {},
          "output_type": "execute_result"
        }
      ],
      "source": [
        "arr6=np.arange(5,16)\n",
        "arr6"
      ]
    },
    {
      "cell_type": "code",
      "execution_count": null,
      "id": "695207ec",
      "metadata": {
        "id": "695207ec",
        "outputId": "63e349d2-7960-4d4a-f799-8f2a221308e7"
      },
      "outputs": [
        {
          "data": {
            "text/plain": [
              "array([0, 1, 2, 3, 4, 5, 6, 7, 8, 9])"
            ]
          },
          "execution_count": 12,
          "metadata": {},
          "output_type": "execute_result"
        }
      ],
      "source": [
        "arr6=np.arange(10)\n",
        "arr6"
      ]
    },
    {
      "cell_type": "code",
      "execution_count": null,
      "id": "5ec79a98",
      "metadata": {
        "id": "5ec79a98",
        "outputId": "36ba24a4-cefa-4834-e7d4-711741357e7f"
      },
      "outputs": [
        {
          "data": {
            "text/plain": [
              "array([ 5,  8, 11, 14])"
            ]
          },
          "execution_count": 13,
          "metadata": {},
          "output_type": "execute_result"
        }
      ],
      "source": [
        "arr6=np.arange(5,16,3)\n",
        "arr6"
      ]
    },
    {
      "cell_type": "code",
      "execution_count": null,
      "id": "08ebab71",
      "metadata": {
        "id": "08ebab71",
        "outputId": "9748d4e7-9376-4c37-f746-3e229c772ad9"
      },
      "outputs": [
        {
          "data": {
            "text/plain": [
              "array([10.        , 10.34482759, 10.68965517, 11.03448276, 11.37931034,\n",
              "       11.72413793, 12.06896552, 12.4137931 , 12.75862069, 13.10344828,\n",
              "       13.44827586, 13.79310345, 14.13793103, 14.48275862, 14.82758621,\n",
              "       15.17241379, 15.51724138, 15.86206897, 16.20689655, 16.55172414,\n",
              "       16.89655172, 17.24137931, 17.5862069 , 17.93103448, 18.27586207,\n",
              "       18.62068966, 18.96551724, 19.31034483, 19.65517241, 20.        ])"
            ]
          },
          "execution_count": 22,
          "metadata": {},
          "output_type": "execute_result"
        }
      ],
      "source": [
        "arr7=np.linspace(10,20,30)\n",
        "arr7"
      ]
    },
    {
      "cell_type": "code",
      "execution_count": null,
      "id": "bb471bc2",
      "metadata": {
        "id": "bb471bc2",
        "outputId": "3c729bfc-c589-4f8f-d81a-1af5b6431086"
      },
      "outputs": [
        {
          "data": {
            "text/plain": [
              "8"
            ]
          },
          "execution_count": 23,
          "metadata": {},
          "output_type": "execute_result"
        }
      ],
      "source": [
        "arr7.itemsize"
      ]
    },
    {
      "cell_type": "code",
      "execution_count": null,
      "id": "92d41430",
      "metadata": {
        "id": "92d41430",
        "outputId": "25f2d9d4-fbf9-4423-dd67-5b1b5c6db90c"
      },
      "outputs": [
        {
          "data": {
            "text/plain": [
              "(30,)"
            ]
          },
          "execution_count": 17,
          "metadata": {},
          "output_type": "execute_result"
        }
      ],
      "source": [
        "arr7.shape"
      ]
    },
    {
      "cell_type": "code",
      "execution_count": null,
      "id": "7a9c140c",
      "metadata": {
        "id": "7a9c140c",
        "outputId": "c8ddd41f-bca4-45f3-c237-f12d3fe4de3b"
      },
      "outputs": [
        {
          "data": {
            "text/plain": [
              "array([10.        , 10.34482759, 10.68965517, 11.03448276, 11.37931034,\n",
              "       11.72413793, 12.06896552, 12.4137931 , 12.75862069, 13.10344828,\n",
              "       13.44827586, 13.79310345, 14.13793103, 14.48275862, 14.82758621,\n",
              "       15.17241379, 15.51724138, 15.86206897, 16.20689655, 16.55172414,\n",
              "       16.89655172, 17.24137931, 17.5862069 , 17.93103448, 18.27586207,\n",
              "       18.62068966, 18.96551724, 19.31034483, 19.65517241, 20.        ])"
            ]
          },
          "execution_count": 15,
          "metadata": {},
          "output_type": "execute_result"
        }
      ],
      "source": [
        "arr8=arr7\n",
        "arr8"
      ]
    },
    {
      "cell_type": "code",
      "execution_count": null,
      "id": "572f3b0d",
      "metadata": {
        "id": "572f3b0d",
        "outputId": "d4605b44-523e-4d11-d59e-cae42d888654"
      },
      "outputs": [
        {
          "data": {
            "text/plain": [
              "array([10.        , 10.34482759, 10.68965517, 11.03448276, 11.37931034,\n",
              "       11.72413793, 12.06896552, 12.4137931 , 12.75862069, 13.10344828,\n",
              "       13.44827586, 13.79310345, 14.13793103, 14.48275862, 14.82758621,\n",
              "       15.17241379, 15.51724138, 15.86206897, 16.20689655, 16.55172414,\n",
              "       16.89655172, 17.24137931, 17.5862069 , 17.93103448, 18.27586207,\n",
              "       18.62068966, 18.96551724, 19.31034483, 19.65517241, 20.        ])"
            ]
          },
          "execution_count": 16,
          "metadata": {},
          "output_type": "execute_result"
        }
      ],
      "source": [
        "arr9=arr7.copy()\n",
        "arr9"
      ]
    },
    {
      "cell_type": "code",
      "execution_count": null,
      "id": "153cb081",
      "metadata": {
        "id": "153cb081",
        "outputId": "e06e3cb7-3e58-4c31-d104-daeab1772c40"
      },
      "outputs": [
        {
          "data": {
            "text/plain": [
              "(4,)"
            ]
          },
          "execution_count": 17,
          "metadata": {},
          "output_type": "execute_result"
        }
      ],
      "source": [
        "arr1.shape"
      ]
    },
    {
      "cell_type": "code",
      "execution_count": null,
      "id": "9444c941",
      "metadata": {
        "id": "9444c941",
        "outputId": "eeab1148-ebf3-48f8-fead-1080a29ef956"
      },
      "outputs": [
        {
          "data": {
            "text/plain": [
              "(4, 4)"
            ]
          },
          "execution_count": 18,
          "metadata": {},
          "output_type": "execute_result"
        }
      ],
      "source": [
        "arr5.shape"
      ]
    },
    {
      "cell_type": "code",
      "execution_count": null,
      "id": "8cd017d6",
      "metadata": {
        "id": "8cd017d6",
        "outputId": "fc256aaa-7e68-493b-a38f-e3fbb81abe57"
      },
      "outputs": [
        {
          "data": {
            "text/plain": [
              "array([[[1, 2],\n",
              "        [3, 4]],\n",
              "\n",
              "       [[5, 6],\n",
              "        [7, 8]]])"
            ]
          },
          "execution_count": 19,
          "metadata": {},
          "output_type": "execute_result"
        }
      ],
      "source": [
        "arr9=np.array([[[1,2],[3,4]],[[5,6],[7,8]]])\n",
        "arr9"
      ]
    },
    {
      "cell_type": "raw",
      "id": "f2f894ef",
      "metadata": {
        "id": "f2f894ef"
      },
      "source": [
        "arr9=np.array([[[1,2],[3,4]],[[5,6],[7,8]]])\n",
        "arr9"
      ]
    },
    {
      "cell_type": "code",
      "execution_count": null,
      "id": "cadfceb7",
      "metadata": {
        "id": "cadfceb7",
        "outputId": "5f6d1528-c7d0-4956-8684-c42987e1d5d1"
      },
      "outputs": [
        {
          "data": {
            "text/plain": [
              "array([[[1, 2],\n",
              "        [3, 4]],\n",
              "\n",
              "       [[5, 6],\n",
              "        [7, 8]]])"
            ]
          },
          "execution_count": 20,
          "metadata": {},
          "output_type": "execute_result"
        }
      ],
      "source": [
        "arr9=np.array([[[1,2],[3,4]],[[5,6],[7,8]]])\n",
        "arr9"
      ]
    },
    {
      "cell_type": "raw",
      "id": "19f06a39",
      "metadata": {
        "id": "19f06a39"
      },
      "source": [
        "arr9=np.array([[[1,2],[3,4]],[[5,6],[7,8]]])\n",
        "arr9\n"
      ]
    },
    {
      "cell_type": "code",
      "execution_count": null,
      "id": "5b0fa4d7",
      "metadata": {
        "id": "5b0fa4d7",
        "outputId": "f22cdbd5-db23-47c3-c4e1-a05b58fbfe21"
      },
      "outputs": [
        {
          "data": {
            "text/plain": [
              "array([[[1, 2],\n",
              "        [3, 4]],\n",
              "\n",
              "       [[5, 6],\n",
              "        [7, 8]]])"
            ]
          },
          "execution_count": 21,
          "metadata": {},
          "output_type": "execute_result"
        }
      ],
      "source": [
        "arr9=np.array([[[1,2],[3,4]],[[5,6],[7,8]]])\n",
        "arr9"
      ]
    },
    {
      "cell_type": "code",
      "execution_count": null,
      "id": "8b6dd6ec",
      "metadata": {
        "id": "8b6dd6ec",
        "outputId": "ec1c31ad-b4e5-4193-bec0-93b8b8674c10"
      },
      "outputs": [
        {
          "data": {
            "text/plain": [
              "(4,)"
            ]
          },
          "execution_count": 22,
          "metadata": {},
          "output_type": "execute_result"
        }
      ],
      "source": [
        "arr1.shape"
      ]
    },
    {
      "cell_type": "code",
      "execution_count": null,
      "id": "210dbf83",
      "metadata": {
        "id": "210dbf83",
        "outputId": "87c5c8ec-8ad2-4427-ced2-24960987ab00"
      },
      "outputs": [
        {
          "data": {
            "text/plain": [
              "(2, 2, 2)"
            ]
          },
          "execution_count": 23,
          "metadata": {},
          "output_type": "execute_result"
        }
      ],
      "source": [
        "arr9.shape"
      ]
    },
    {
      "cell_type": "code",
      "execution_count": null,
      "id": "74e77e4b",
      "metadata": {
        "id": "74e77e4b",
        "outputId": "302fa7ff-f59c-44e1-ce9b-0eecd42c1efc"
      },
      "outputs": [
        {
          "data": {
            "text/plain": [
              "1"
            ]
          },
          "execution_count": 24,
          "metadata": {},
          "output_type": "execute_result"
        }
      ],
      "source": [
        "arr1.ndim"
      ]
    },
    {
      "cell_type": "code",
      "execution_count": null,
      "id": "0faf6e0c",
      "metadata": {
        "id": "0faf6e0c",
        "outputId": "63ad1f0e-9fa5-43b2-ba39-725ac0387134"
      },
      "outputs": [
        {
          "data": {
            "text/plain": [
              "3"
            ]
          },
          "execution_count": 25,
          "metadata": {},
          "output_type": "execute_result"
        }
      ],
      "source": [
        "arr9.ndim"
      ]
    },
    {
      "cell_type": "code",
      "execution_count": null,
      "id": "d7f452c7",
      "metadata": {
        "id": "d7f452c7",
        "outputId": "7cebc587-d0cd-42df-8e41-a10ac444b042"
      },
      "outputs": [
        {
          "data": {
            "text/plain": [
              "4"
            ]
          },
          "execution_count": 26,
          "metadata": {},
          "output_type": "execute_result"
        }
      ],
      "source": [
        "arr1.itemsize"
      ]
    },
    {
      "cell_type": "code",
      "execution_count": null,
      "id": "50cff903",
      "metadata": {
        "id": "50cff903",
        "outputId": "7e9ea7e5-3422-4dc8-ab5a-1dc532346f14"
      },
      "outputs": [
        {
          "data": {
            "text/plain": [
              "4"
            ]
          },
          "execution_count": 27,
          "metadata": {},
          "output_type": "execute_result"
        }
      ],
      "source": [
        "arr9.itemsize"
      ]
    },
    {
      "cell_type": "code",
      "execution_count": null,
      "id": "e0e05455",
      "metadata": {
        "id": "e0e05455",
        "outputId": "74dcc44d-d39d-45b6-cf2f-21addc6e35f3"
      },
      "outputs": [
        {
          "data": {
            "text/plain": [
              "8"
            ]
          },
          "execution_count": 28,
          "metadata": {},
          "output_type": "execute_result"
        }
      ],
      "source": [
        "arr8.itemsize"
      ]
    },
    {
      "cell_type": "code",
      "execution_count": null,
      "id": "22aca6c9",
      "metadata": {
        "id": "22aca6c9",
        "outputId": "02212063-9737-46be-eb1a-0a8365b00af2"
      },
      "outputs": [
        {
          "data": {
            "text/plain": [
              "dtype('float64')"
            ]
          },
          "execution_count": 29,
          "metadata": {},
          "output_type": "execute_result"
        }
      ],
      "source": [
        "arr8.dtype"
      ]
    },
    {
      "cell_type": "code",
      "execution_count": null,
      "id": "b08efbf5",
      "metadata": {
        "id": "b08efbf5",
        "outputId": "c5641cd7-94a8-499d-ec1b-fb9c2d040f81"
      },
      "outputs": [
        {
          "data": {
            "text/plain": [
              "dtype('int32')"
            ]
          },
          "execution_count": 30,
          "metadata": {},
          "output_type": "execute_result"
        }
      ],
      "source": [
        "arr9.dtype"
      ]
    },
    {
      "cell_type": "code",
      "execution_count": null,
      "id": "f72343eb",
      "metadata": {
        "id": "f72343eb"
      },
      "outputs": [],
      "source": [
        "import sys"
      ]
    },
    {
      "cell_type": "code",
      "execution_count": null,
      "id": "f40be474",
      "metadata": {
        "id": "f40be474"
      },
      "outputs": [],
      "source": [
        "lista=range(100)\n",
        "arr11=np.arange(100)"
      ]
    },
    {
      "cell_type": "code",
      "execution_count": null,
      "id": "535323a6",
      "metadata": {
        "id": "535323a6",
        "outputId": "6232a820-2f70-4ae4-e9ba-7fff9d51bee7"
      },
      "outputs": [
        {
          "name": "stdout",
          "output_type": "stream",
          "text": [
            "2800\n"
          ]
        }
      ],
      "source": [
        "print(sys.getsizeof(101)*len(lista))"
      ]
    },
    {
      "cell_type": "code",
      "execution_count": null,
      "id": "9e048fa7",
      "metadata": {
        "id": "9e048fa7",
        "outputId": "33fd1230-1371-429d-e62d-18cd9d4b5df0"
      },
      "outputs": [
        {
          "name": "stdout",
          "output_type": "stream",
          "text": [
            "400\n"
          ]
        }
      ],
      "source": [
        "print(arr11.itemsize*arr11.size)"
      ]
    },
    {
      "cell_type": "code",
      "execution_count": null,
      "id": "57ee64e9",
      "metadata": {
        "id": "57ee64e9",
        "outputId": "3e0855e7-bb62-4df3-c3ef-edbe081501e7"
      },
      "outputs": [
        {
          "name": "stdout",
          "output_type": "stream",
          "text": [
            "400\n"
          ]
        }
      ],
      "source": [
        "print(arr11.itemsize*arr11.size)"
      ]
    },
    {
      "cell_type": "code",
      "execution_count": null,
      "id": "4b7e58d7",
      "metadata": {
        "id": "4b7e58d7",
        "outputId": "0215d054-cd6d-4665-abe3-cf6fc44c2a97"
      },
      "outputs": [
        {
          "name": "stdout",
          "output_type": "stream",
          "text": [
            "400\n"
          ]
        }
      ],
      "source": [
        "print(arr11.itemsize*arr11.size)"
      ]
    },
    {
      "cell_type": "code",
      "execution_count": null,
      "id": "3d8b5e95",
      "metadata": {
        "id": "3d8b5e95"
      },
      "outputs": [],
      "source": [
        "import time"
      ]
    },
    {
      "cell_type": "code",
      "execution_count": null,
      "id": "4ee894c8",
      "metadata": {
        "id": "4ee894c8",
        "outputId": "2741880b-1c67-458c-8989-8181e72b10a8"
      },
      "outputs": [
        {
          "name": "stdout",
          "output_type": "stream",
          "text": [
            "35.144519329071045\n"
          ]
        }
      ],
      "source": [
        "x=range(100000000)\n",
        "y=range(100000000,200000000)\n",
        "start_time=time.time()\n",
        "c=[(x,y) for x,y in zip(x,y)]\n",
        "print(time.time()-start_time)\n"
      ]
    },
    {
      "cell_type": "code",
      "execution_count": null,
      "id": "a5f021ef",
      "metadata": {
        "id": "a5f021ef",
        "outputId": "21dfcd9d-005e-4fac-a380-fb5058744b6b"
      },
      "outputs": [
        {
          "name": "stdout",
          "output_type": "stream",
          "text": [
            "400\n"
          ]
        }
      ],
      "source": [
        "print(arr11.itemsize*arr11.size)"
      ]
    },
    {
      "cell_type": "code",
      "execution_count": null,
      "id": "aa623080",
      "metadata": {
        "id": "aa623080",
        "outputId": "3d765499-98c0-4daa-a825-4875b6ef437b"
      },
      "outputs": [
        {
          "name": "stdout",
          "output_type": "stream",
          "text": [
            "33.05845284461975\n"
          ]
        }
      ],
      "source": [
        "a=np.arange(100000000)\n",
        "b=np.arange(100000000,200000000)\n",
        "start_time=time.time()\n",
        "c=a+b\n",
        "print(time.time()-start_time)\n"
      ]
    },
    {
      "cell_type": "code",
      "execution_count": null,
      "id": "027396d3",
      "metadata": {
        "id": "027396d3",
        "outputId": "efcac1ae-daeb-47d3-c83f-cf318f5c5b47"
      },
      "outputs": [
        {
          "data": {
            "text/plain": [
              "array([ 0,  1,  2,  3,  4,  5,  6,  7,  8,  9, 10, 11, 12, 13, 14, 15, 16,\n",
              "       17, 18, 19, 20, 21, 22, 23])"
            ]
          },
          "execution_count": 41,
          "metadata": {},
          "output_type": "execute_result"
        }
      ],
      "source": [
        "arr12=np.arange(24)\n",
        "arr12"
      ]
    },
    {
      "cell_type": "code",
      "execution_count": null,
      "id": "87e592c2",
      "metadata": {
        "id": "87e592c2",
        "outputId": "7c7ca447-77d1-461e-8958-fb246a42c7aa"
      },
      "outputs": [
        {
          "data": {
            "text/plain": [
              "array([[ 0,  1,  2,  3],\n",
              "       [ 4,  5,  6,  7],\n",
              "       [ 8,  9, 10, 11],\n",
              "       [12, 13, 14, 15],\n",
              "       [16, 17, 18, 19],\n",
              "       [20, 21, 22, 23]])"
            ]
          },
          "execution_count": 42,
          "metadata": {},
          "output_type": "execute_result"
        }
      ],
      "source": [
        "arr12=np.arange(24).reshape(6,4)\n",
        "arr12\n"
      ]
    },
    {
      "cell_type": "code",
      "execution_count": null,
      "id": "f1e082d3",
      "metadata": {
        "id": "f1e082d3",
        "outputId": "041dfdbc-b635-42d9-cc63-613649a56bf0"
      },
      "outputs": [
        {
          "data": {
            "text/plain": [
              "array([1, 2, 3, 4])"
            ]
          },
          "execution_count": 43,
          "metadata": {},
          "output_type": "execute_result"
        }
      ],
      "source": [
        "arr1"
      ]
    },
    {
      "cell_type": "code",
      "execution_count": null,
      "id": "3ed22880",
      "metadata": {
        "id": "3ed22880",
        "outputId": "908dd837-5ac5-4968-ed4b-98ef2427704b"
      },
      "outputs": [
        {
          "data": {
            "text/plain": [
              "array([2, 3])"
            ]
          },
          "execution_count": 44,
          "metadata": {},
          "output_type": "execute_result"
        }
      ],
      "source": [
        "arr1[1:3]"
      ]
    },
    {
      "cell_type": "code",
      "execution_count": null,
      "id": "69ee7d73",
      "metadata": {
        "id": "69ee7d73",
        "outputId": "e9280a25-0096-4aa9-9e7a-6e6d6e28f3ed"
      },
      "outputs": [
        {
          "data": {
            "text/plain": [
              "array([ 8,  9, 10, 11])"
            ]
          },
          "execution_count": 45,
          "metadata": {},
          "output_type": "execute_result"
        }
      ],
      "source": [
        "arr12[2]"
      ]
    },
    {
      "cell_type": "code",
      "execution_count": null,
      "id": "3292c3be",
      "metadata": {
        "id": "3292c3be",
        "outputId": "1f1fd8ca-d216-4ec3-ce2b-002db22d28b5"
      },
      "outputs": [
        {
          "data": {
            "text/plain": [
              "array([[ 2],\n",
              "       [ 6],\n",
              "       [10],\n",
              "       [14],\n",
              "       [18],\n",
              "       [22]])"
            ]
          },
          "execution_count": 46,
          "metadata": {},
          "output_type": "execute_result"
        }
      ],
      "source": [
        "arr12[:,2].reshape(6,1)"
      ]
    },
    {
      "cell_type": "code",
      "execution_count": null,
      "id": "64c90f3a",
      "metadata": {
        "id": "64c90f3a",
        "outputId": "7064f77b-c2f1-4181-a37f-9db377726198"
      },
      "outputs": [
        {
          "ename": "NameError",
          "evalue": "name 'arr12' is not defined",
          "output_type": "error",
          "traceback": [
            "\u001b[1;31m---------------------------------------------------------------------------\u001b[0m",
            "\u001b[1;31mNameError\u001b[0m                                 Traceback (most recent call last)",
            "Cell \u001b[1;32mIn[24], line 1\u001b[0m\n\u001b[1;32m----> 1\u001b[0m arr12[:,\u001b[38;5;241m1\u001b[39m:\u001b[38;5;241m3\u001b[39m]\n",
            "\u001b[1;31mNameError\u001b[0m: name 'arr12' is not defined"
          ]
        }
      ],
      "source": [
        "arr12[:,1:3]"
      ]
    },
    {
      "cell_type": "code",
      "execution_count": null,
      "id": "54fee49c",
      "metadata": {
        "id": "54fee49c",
        "outputId": "253da4ab-93c8-425e-9300-a9e73453e23c"
      },
      "outputs": [
        {
          "ename": "NameError",
          "evalue": "name 'arr12' is not defined",
          "output_type": "error",
          "traceback": [
            "\u001b[1;31m---------------------------------------------------------------------------\u001b[0m",
            "\u001b[1;31mNameError\u001b[0m                                 Traceback (most recent call last)",
            "Cell \u001b[1;32mIn[25], line 1\u001b[0m\n\u001b[1;32m----> 1\u001b[0m arr12[\u001b[38;5;241m2\u001b[39m:\u001b[38;5;241m4\u001b[39m,\u001b[38;5;241m1\u001b[39m:\u001b[38;5;241m3\u001b[39m]\n",
            "\u001b[1;31mNameError\u001b[0m: name 'arr12' is not defined"
          ]
        }
      ],
      "source": [
        "arr12[2:4,1:3]"
      ]
    },
    {
      "cell_type": "code",
      "execution_count": null,
      "id": "875471f3",
      "metadata": {
        "id": "875471f3",
        "outputId": "a1705e98-c3ba-450e-cb4b-9dfd91b92931"
      },
      "outputs": [
        {
          "data": {
            "text/plain": [
              "array([[ 2,  3],\n",
              "       [ 6,  7],\n",
              "       [10, 11],\n",
              "       [14, 15],\n",
              "       [18, 19],\n",
              "       [22, 23]])"
            ]
          },
          "execution_count": 49,
          "metadata": {},
          "output_type": "execute_result"
        }
      ],
      "source": [
        "arr12[:,2:]"
      ]
    },
    {
      "cell_type": "code",
      "execution_count": null,
      "id": "4bdab28a",
      "metadata": {
        "id": "4bdab28a",
        "outputId": "a63c7e36-f3de-4074-be5e-2ffeadf2e8c5"
      },
      "outputs": [
        {
          "name": "stdout",
          "output_type": "stream",
          "text": [
            "[0 1 2 3]\n",
            "[4 5 6 7]\n",
            "[ 8  9 10 11]\n",
            "[12 13 14 15]\n",
            "[16 17 18 19]\n",
            "[20 21 22 23]\n"
          ]
        }
      ],
      "source": [
        "for i in arr12:\n",
        "    print(i)"
      ]
    },
    {
      "cell_type": "code",
      "execution_count": null,
      "id": "e08de9a6",
      "metadata": {
        "id": "e08de9a6",
        "outputId": "818e75ac-9c0c-4efb-8b17-035974c47f2d"
      },
      "outputs": [
        {
          "name": "stdout",
          "output_type": "stream",
          "text": [
            "0\n",
            "1\n",
            "2\n",
            "3\n",
            "4\n",
            "5\n",
            "6\n",
            "7\n",
            "8\n",
            "9\n",
            "10\n",
            "11\n",
            "12\n",
            "13\n",
            "14\n",
            "15\n",
            "16\n",
            "17\n",
            "18\n",
            "19\n",
            "20\n",
            "21\n",
            "22\n",
            "23\n"
          ]
        }
      ],
      "source": [
        "for i in np.nditer(arr12):\n",
        "    print(i)"
      ]
    },
    {
      "cell_type": "code",
      "execution_count": null,
      "id": "99ef2d1e",
      "metadata": {
        "id": "99ef2d1e",
        "outputId": "c2429333-0dbb-409a-851a-e026d655d649"
      },
      "outputs": [
        {
          "data": {
            "text/plain": [
              "array([ 5,  7,  9, 11, 13, 15])"
            ]
          },
          "execution_count": 52,
          "metadata": {},
          "output_type": "execute_result"
        }
      ],
      "source": [
        "arr1=np.array([1,2,3,4,5,6])\n",
        "arr2=np.array([4,5,6,7,8,9])\n",
        "arr1+arr2"
      ]
    },
    {
      "cell_type": "code",
      "execution_count": null,
      "id": "f02c3fed",
      "metadata": {
        "id": "f02c3fed",
        "outputId": "4dcd3c9b-1c99-4a83-f30f-ee3832aae512"
      },
      "outputs": [
        {
          "data": {
            "text/plain": [
              "array([ 2,  4,  6,  8, 10, 12])"
            ]
          },
          "execution_count": 53,
          "metadata": {},
          "output_type": "execute_result"
        }
      ],
      "source": [
        "arr1*2"
      ]
    },
    {
      "cell_type": "code",
      "execution_count": null,
      "id": "22a8cf24",
      "metadata": {
        "id": "22a8cf24",
        "outputId": "94fc1c1d-805b-4c7e-8d13-2b6787d783be"
      },
      "outputs": [
        {
          "data": {
            "text/plain": [
              "array([ 4, 10, 18, 28, 40, 54])"
            ]
          },
          "execution_count": 54,
          "metadata": {},
          "output_type": "execute_result"
        }
      ],
      "source": [
        "arr1*arr2"
      ]
    },
    {
      "cell_type": "code",
      "execution_count": null,
      "id": "a3501cdd",
      "metadata": {
        "id": "a3501cdd",
        "outputId": "6c46076d-1072-4298-baf3-4e56c6c2c0c8"
      },
      "outputs": [
        {
          "data": {
            "text/plain": [
              "array([-3, -3, -3, -3, -3, -3])"
            ]
          },
          "execution_count": 55,
          "metadata": {},
          "output_type": "execute_result"
        }
      ],
      "source": [
        "arr1-arr2"
      ]
    },
    {
      "cell_type": "code",
      "execution_count": null,
      "id": "a840433a",
      "metadata": {
        "id": "a840433a",
        "outputId": "6d4da0cc-fcbd-4f7c-f1ad-8c8e549a3037"
      },
      "outputs": [
        {
          "data": {
            "text/plain": [
              "array([0.25      , 0.4       , 0.5       , 0.57142857, 0.625     ,\n",
              "       0.66666667])"
            ]
          },
          "execution_count": 56,
          "metadata": {},
          "output_type": "execute_result"
        }
      ],
      "source": [
        "arr1/arr2"
      ]
    },
    {
      "cell_type": "code",
      "execution_count": null,
      "id": "23324178",
      "metadata": {
        "id": "23324178",
        "outputId": "eedb3279-7b0d-499c-b315-a80fe4c23c77"
      },
      "outputs": [
        {
          "data": {
            "text/plain": [
              "array([False, False, False, False,  True,  True])"
            ]
          },
          "execution_count": 57,
          "metadata": {},
          "output_type": "execute_result"
        }
      ],
      "source": [
        "arr1>4"
      ]
    },
    {
      "cell_type": "code",
      "execution_count": null,
      "id": "5b333ada",
      "metadata": {
        "id": "5b333ada",
        "outputId": "6e1ec54e-a48a-4a83-fcba-6d2ab0df767e"
      },
      "outputs": [
        {
          "data": {
            "text/plain": [
              "array([ True,  True,  True,  True,  True,  True])"
            ]
          },
          "execution_count": 58,
          "metadata": {},
          "output_type": "execute_result"
        }
      ],
      "source": [
        "arr1<arr2"
      ]
    },
    {
      "cell_type": "code",
      "execution_count": null,
      "id": "98659288",
      "metadata": {
        "id": "98659288"
      },
      "outputs": [],
      "source": [
        "arr3=np.arange(6).reshape(2,3)\n",
        "arr4=np.arange(6,12).reshape(3,2)"
      ]
    },
    {
      "cell_type": "code",
      "execution_count": null,
      "id": "44e582e1",
      "metadata": {
        "id": "44e582e1",
        "outputId": "1cda2895-17de-4e46-8034-5389daf08d59"
      },
      "outputs": [
        {
          "data": {
            "text/plain": [
              "array([[ 28,  31],\n",
              "       [100, 112]])"
            ]
          },
          "execution_count": 60,
          "metadata": {},
          "output_type": "execute_result"
        }
      ],
      "source": [
        "arr3.dot(arr4)"
      ]
    },
    {
      "cell_type": "code",
      "execution_count": null,
      "id": "06d7760b",
      "metadata": {
        "id": "06d7760b",
        "outputId": "319553ac-4d88-40fb-e1d7-b68c893f7702"
      },
      "outputs": [
        {
          "data": {
            "text/plain": [
              "154"
            ]
          },
          "execution_count": 61,
          "metadata": {},
          "output_type": "execute_result"
        }
      ],
      "source": [
        "arr1.dot(arr2)"
      ]
    },
    {
      "cell_type": "code",
      "execution_count": null,
      "id": "4c5f6858",
      "metadata": {
        "id": "4c5f6858",
        "outputId": "51eae621-9bbc-4451-ff7b-ee653a389aca"
      },
      "outputs": [
        {
          "data": {
            "text/plain": [
              "11"
            ]
          },
          "execution_count": 62,
          "metadata": {},
          "output_type": "execute_result"
        }
      ],
      "source": [
        "arr4.max()"
      ]
    },
    {
      "cell_type": "code",
      "execution_count": null,
      "id": "8567c1fb",
      "metadata": {
        "id": "8567c1fb",
        "outputId": "8a3307a5-88e1-4549-ed03-0eea49cb84e8"
      },
      "outputs": [
        {
          "data": {
            "text/plain": [
              "6"
            ]
          },
          "execution_count": 63,
          "metadata": {},
          "output_type": "execute_result"
        }
      ],
      "source": [
        "arr4.min()"
      ]
    },
    {
      "cell_type": "code",
      "execution_count": null,
      "id": "6973bcc6",
      "metadata": {
        "id": "6973bcc6",
        "outputId": "9c457d59-7079-4bf9-adc2-45ce1970765e"
      },
      "outputs": [
        {
          "data": {
            "text/plain": [
              "array([6, 7])"
            ]
          },
          "execution_count": 64,
          "metadata": {},
          "output_type": "execute_result"
        }
      ],
      "source": [
        "arr4.min(axis=0)"
      ]
    },
    {
      "cell_type": "code",
      "execution_count": null,
      "id": "e2fd5cd3",
      "metadata": {
        "id": "e2fd5cd3",
        "outputId": "d87f7f65-f4ef-4afc-eac2-522749ee326a"
      },
      "outputs": [
        {
          "data": {
            "text/plain": [
              "array([ 6,  8, 10])"
            ]
          },
          "execution_count": 65,
          "metadata": {},
          "output_type": "execute_result"
        }
      ],
      "source": [
        "arr4.min(axis=1)"
      ]
    },
    {
      "cell_type": "code",
      "execution_count": null,
      "id": "241fb806",
      "metadata": {
        "id": "241fb806",
        "outputId": "adb6d10b-9595-4dc7-a429-436660eda06c"
      },
      "outputs": [
        {
          "data": {
            "text/plain": [
              "array([ 7,  9, 11])"
            ]
          },
          "execution_count": 66,
          "metadata": {},
          "output_type": "execute_result"
        }
      ],
      "source": [
        "arr4.max(axis=1)"
      ]
    },
    {
      "cell_type": "code",
      "execution_count": null,
      "id": "94d351c7",
      "metadata": {
        "id": "94d351c7",
        "outputId": "59a4f03b-6098-4611-bfb4-f4782a7f8e32"
      },
      "outputs": [
        {
          "data": {
            "text/plain": [
              "51"
            ]
          },
          "execution_count": 67,
          "metadata": {},
          "output_type": "execute_result"
        }
      ],
      "source": [
        "arr4.sum()"
      ]
    },
    {
      "cell_type": "code",
      "execution_count": null,
      "id": "35e58279",
      "metadata": {
        "id": "35e58279",
        "outputId": "71d06c7f-caf1-4030-a606-e19fd836b638"
      },
      "outputs": [
        {
          "data": {
            "text/plain": [
              "array([24, 27])"
            ]
          },
          "execution_count": 68,
          "metadata": {},
          "output_type": "execute_result"
        }
      ],
      "source": [
        "arr4.sum(axis=0)"
      ]
    },
    {
      "cell_type": "code",
      "execution_count": null,
      "id": "2696368e",
      "metadata": {
        "id": "2696368e",
        "outputId": "71f098db-95e1-4034-827b-82bd8bbcec81"
      },
      "outputs": [
        {
          "data": {
            "text/plain": [
              "8.5"
            ]
          },
          "execution_count": 69,
          "metadata": {},
          "output_type": "execute_result"
        }
      ],
      "source": [
        "arr4.mean()"
      ]
    },
    {
      "cell_type": "code",
      "execution_count": null,
      "id": "1609f714",
      "metadata": {
        "id": "1609f714",
        "outputId": "7b51b36e-1511-43dd-d84b-730653f54815"
      },
      "outputs": [
        {
          "data": {
            "text/plain": [
              "array([8., 9.])"
            ]
          },
          "execution_count": 70,
          "metadata": {},
          "output_type": "execute_result"
        }
      ],
      "source": [
        "arr4.mean(axis=0)"
      ]
    },
    {
      "cell_type": "code",
      "execution_count": null,
      "id": "0cbe9330",
      "metadata": {
        "id": "0cbe9330",
        "outputId": "c934f163-c658-4537-8e3c-b12a136f4e79"
      },
      "outputs": [
        {
          "data": {
            "text/plain": [
              "array([ 6.5,  8.5, 10.5])"
            ]
          },
          "execution_count": 71,
          "metadata": {},
          "output_type": "execute_result"
        }
      ],
      "source": [
        "arr4.mean(axis=1)"
      ]
    },
    {
      "cell_type": "code",
      "execution_count": null,
      "id": "bc484645",
      "metadata": {
        "id": "bc484645",
        "outputId": "c84955a6-815c-44e6-feb0-7dd6888bb64d"
      },
      "outputs": [
        {
          "data": {
            "text/plain": [
              "1.707825127659933"
            ]
          },
          "execution_count": 72,
          "metadata": {},
          "output_type": "execute_result"
        }
      ],
      "source": [
        "arr4.std()"
      ]
    },
    {
      "cell_type": "code",
      "execution_count": null,
      "id": "6ddb0edf",
      "metadata": {
        "id": "6ddb0edf",
        "outputId": "8c290a1f-27b1-4b80-d83b-3cc8a04439f1"
      },
      "outputs": [
        {
          "data": {
            "text/plain": [
              "array([[-0.2794155 ,  0.6569866 ],\n",
              "       [ 0.98935825,  0.41211849],\n",
              "       [-0.54402111, -0.99999021]])"
            ]
          },
          "execution_count": 73,
          "metadata": {},
          "output_type": "execute_result"
        }
      ],
      "source": [
        "np.sin(arr4)"
      ]
    },
    {
      "cell_type": "code",
      "execution_count": null,
      "id": "ef422970",
      "metadata": {
        "id": "ef422970",
        "outputId": "7e4a3715-ace0-4a0a-dbcd-99f81619e539"
      },
      "outputs": [
        {
          "data": {
            "text/plain": [
              "8.5"
            ]
          },
          "execution_count": 74,
          "metadata": {},
          "output_type": "execute_result"
        }
      ],
      "source": [
        "np.median(arr4)"
      ]
    },
    {
      "cell_type": "code",
      "execution_count": null,
      "id": "3a8253bc",
      "metadata": {
        "id": "3a8253bc",
        "outputId": "10045c59-93de-40e1-a8bd-f1cbff0bcabd"
      },
      "outputs": [
        {
          "data": {
            "text/plain": [
              "array([[  403.42879349,  1096.63315843],\n",
              "       [ 2980.95798704,  8103.08392758],\n",
              "       [22026.46579481, 59874.1417152 ]])"
            ]
          },
          "execution_count": 75,
          "metadata": {},
          "output_type": "execute_result"
        }
      ],
      "source": [
        "np.exp(arr4)"
      ]
    },
    {
      "cell_type": "code",
      "execution_count": null,
      "id": "45430ca3",
      "metadata": {
        "id": "45430ca3",
        "outputId": "55881b6c-cea1-4360-ebeb-ce6aae9ceab3"
      },
      "outputs": [
        {
          "data": {
            "text/plain": [
              "2"
            ]
          },
          "execution_count": 76,
          "metadata": {},
          "output_type": "execute_result"
        }
      ],
      "source": [
        "arr4.ndim"
      ]
    },
    {
      "cell_type": "code",
      "execution_count": null,
      "id": "795ba968",
      "metadata": {
        "id": "795ba968",
        "outputId": "9db48bc8-1d82-49fc-c5e4-ebddf0090dbc"
      },
      "outputs": [
        {
          "data": {
            "text/plain": [
              "2"
            ]
          },
          "execution_count": 77,
          "metadata": {},
          "output_type": "execute_result"
        }
      ],
      "source": [
        "arr4.ndim"
      ]
    },
    {
      "cell_type": "code",
      "execution_count": null,
      "id": "1db01db2",
      "metadata": {
        "id": "1db01db2",
        "outputId": "11b3d55b-52ec-4289-88d9-206b70ad88b5"
      },
      "outputs": [
        {
          "data": {
            "text/plain": [
              "array([[-0.2794155 ,  0.6569866 ],\n",
              "       [ 0.98935825,  0.41211849],\n",
              "       [-0.54402111, -0.99999021]])"
            ]
          },
          "execution_count": 78,
          "metadata": {},
          "output_type": "execute_result"
        }
      ],
      "source": [
        "np.sin(arr4)"
      ]
    },
    {
      "cell_type": "code",
      "execution_count": null,
      "id": "f98e3f2d",
      "metadata": {
        "id": "f98e3f2d",
        "outputId": "172f848b-40b8-4f8e-f5b2-7a4aea496a2e"
      },
      "outputs": [
        {
          "data": {
            "text/plain": [
              "array([ 6,  7,  8,  9, 10, 11])"
            ]
          },
          "execution_count": 79,
          "metadata": {},
          "output_type": "execute_result"
        }
      ],
      "source": [
        "arr4.ravel()"
      ]
    },
    {
      "cell_type": "code",
      "execution_count": null,
      "id": "c760a39d",
      "metadata": {
        "id": "c760a39d",
        "outputId": "02b9a9e9-978e-4451-b85d-fcdd6efeff98"
      },
      "outputs": [
        {
          "data": {
            "text/plain": [
              "array([[ 6,  8, 10],\n",
              "       [ 7,  9, 11]])"
            ]
          },
          "execution_count": 80,
          "metadata": {},
          "output_type": "execute_result"
        }
      ],
      "source": [
        "arr4.transpose()"
      ]
    },
    {
      "cell_type": "code",
      "execution_count": null,
      "id": "3a0823cd",
      "metadata": {
        "id": "3a0823cd",
        "outputId": "2f6665b4-54df-4e58-f76a-2be5eb94355c"
      },
      "outputs": [
        {
          "data": {
            "text/plain": [
              "array([[ 6,  7],\n",
              "       [ 8,  9],\n",
              "       [10, 11]])"
            ]
          },
          "execution_count": 81,
          "metadata": {},
          "output_type": "execute_result"
        }
      ],
      "source": [
        "arr4"
      ]
    },
    {
      "cell_type": "code",
      "execution_count": null,
      "id": "d253ae58",
      "metadata": {
        "id": "d253ae58",
        "outputId": "9849f42c-baad-40f9-8fa3-8ecec6e4ac86"
      },
      "outputs": [
        {
          "data": {
            "text/plain": [
              "array([[12, 13, 14],\n",
              "       [15, 16, 17]])"
            ]
          },
          "execution_count": 82,
          "metadata": {},
          "output_type": "execute_result"
        }
      ],
      "source": [
        "arr5=np.arange(12,18).reshape(2,3)\n",
        "arr5"
      ]
    },
    {
      "cell_type": "code",
      "execution_count": null,
      "id": "c6a1a895",
      "metadata": {
        "id": "c6a1a895",
        "outputId": "098c0658-5e6d-4397-c55b-70a6a067cf92"
      },
      "outputs": [
        {
          "data": {
            "text/plain": [
              "array([[ 0,  1,  2, 12, 13, 14],\n",
              "       [ 3,  4,  5, 15, 16, 17]])"
            ]
          },
          "execution_count": 83,
          "metadata": {},
          "output_type": "execute_result"
        }
      ],
      "source": [
        "np.hstack((arr3,arr5))"
      ]
    },
    {
      "cell_type": "code",
      "execution_count": null,
      "id": "3c91aa5f",
      "metadata": {
        "id": "3c91aa5f",
        "outputId": "bf29f699-1f6f-4d6a-b3c4-3f721a2d8e1a"
      },
      "outputs": [
        {
          "data": {
            "text/plain": [
              "array([[ 0,  1,  2],\n",
              "       [ 3,  4,  5],\n",
              "       [12, 13, 14],\n",
              "       [15, 16, 17]])"
            ]
          },
          "execution_count": 84,
          "metadata": {},
          "output_type": "execute_result"
        }
      ],
      "source": [
        "np.vstack((arr3,arr5))"
      ]
    },
    {
      "cell_type": "code",
      "execution_count": null,
      "id": "3df20e12",
      "metadata": {
        "id": "3df20e12",
        "outputId": "60c27de1-4290-403b-dd13-ec5f153b4445"
      },
      "outputs": [
        {
          "data": {
            "text/plain": [
              "[array([[0],\n",
              "        [3]]),\n",
              " array([[1],\n",
              "        [4]]),\n",
              " array([[2],\n",
              "        [5]])]"
            ]
          },
          "execution_count": 85,
          "metadata": {},
          "output_type": "execute_result"
        }
      ],
      "source": [
        "np.hsplit(arr3,3)"
      ]
    },
    {
      "cell_type": "code",
      "execution_count": null,
      "id": "31b3ae4e",
      "metadata": {
        "id": "31b3ae4e",
        "outputId": "becf474b-4d1a-49c2-85be-af5a82914430"
      },
      "outputs": [
        {
          "data": {
            "text/plain": [
              "[array([[0, 1, 2]]), array([[3, 4, 5]])]"
            ]
          },
          "execution_count": 86,
          "metadata": {},
          "output_type": "execute_result"
        }
      ],
      "source": [
        "np.vsplit(arr3,2)"
      ]
    },
    {
      "cell_type": "code",
      "execution_count": null,
      "id": "0433fb1a",
      "metadata": {
        "id": "0433fb1a"
      },
      "outputs": [],
      "source": [
        "arr8=np.arange(24).reshape(6,4)"
      ]
    },
    {
      "cell_type": "code",
      "execution_count": null,
      "id": "9a8d1161",
      "metadata": {
        "id": "9a8d1161",
        "outputId": "62bce97c-3171-4b59-f89e-9dd987b754c5"
      },
      "outputs": [
        {
          "data": {
            "text/plain": [
              "array([[ 0,  1,  2,  3],\n",
              "       [ 4,  5,  6,  7],\n",
              "       [ 8,  9, 10, 11],\n",
              "       [12, 13, 14, 15],\n",
              "       [16, 17, 18, 19],\n",
              "       [20, 21, 22, 23]])"
            ]
          },
          "execution_count": 88,
          "metadata": {},
          "output_type": "execute_result"
        }
      ],
      "source": [
        "arr8"
      ]
    },
    {
      "cell_type": "code",
      "execution_count": null,
      "id": "b306613f",
      "metadata": {
        "id": "b306613f",
        "outputId": "4221ffd6-20af-4221-ed10-baad843c560f"
      },
      "outputs": [
        {
          "data": {
            "text/plain": [
              "array([[ 5,  6],\n",
              "       [ 9, 10]])"
            ]
          },
          "execution_count": 89,
          "metadata": {},
          "output_type": "execute_result"
        }
      ],
      "source": [
        "arr8[1:3,1:3]"
      ]
    },
    {
      "cell_type": "code",
      "execution_count": null,
      "id": "47358a86",
      "metadata": {
        "id": "47358a86",
        "outputId": "2de99258-3eee-41c9-f5fe-20c311d9f09d"
      },
      "outputs": [
        {
          "data": {
            "text/plain": [
              "array([[ 0,  1,  2,  3],\n",
              "       [ 8,  9, 10, 11],\n",
              "       [16, 17, 18, 19]])"
            ]
          },
          "execution_count": 90,
          "metadata": {},
          "output_type": "execute_result"
        }
      ],
      "source": [
        "#fancy Indexing\n",
        "arr8[[0,2,4]]"
      ]
    },
    {
      "cell_type": "code",
      "execution_count": null,
      "id": "ae03c8d4",
      "metadata": {
        "id": "ae03c8d4",
        "outputId": "b7364b30-d8fc-4b2b-9c76-c529bea262b1"
      },
      "outputs": [
        {
          "data": {
            "text/plain": [
              "2"
            ]
          },
          "execution_count": 91,
          "metadata": {},
          "output_type": "execute_result"
        }
      ],
      "source": [
        "arr8[0][2]"
      ]
    },
    {
      "cell_type": "code",
      "execution_count": null,
      "id": "2dde0d5d",
      "metadata": {
        "id": "2dde0d5d"
      },
      "outputs": [],
      "source": [
        "import numpy as np"
      ]
    },
    {
      "cell_type": "code",
      "execution_count": null,
      "id": "dab46978",
      "metadata": {
        "id": "dab46978",
        "outputId": "eec899a6-c893-4717-d68e-1556010b6ba4"
      },
      "outputs": [
        {
          "data": {
            "text/plain": [
              "array([[25, 90, 41, 25, 71],\n",
              "       [66, 25, 11, 41, 27],\n",
              "       [68, 38,  4, 26, 50],\n",
              "       [84, 84, 92, 61, 72]])"
            ]
          },
          "execution_count": 93,
          "metadata": {},
          "output_type": "execute_result"
        }
      ],
      "source": [
        "arr=np.random.randint(low=1,high=100,size=20).reshape(4,5)\n",
        "arr"
      ]
    },
    {
      "cell_type": "code",
      "execution_count": null,
      "id": "e9b8a079",
      "metadata": {
        "id": "e9b8a079",
        "outputId": "84e7ed59-892a-481a-f117-78eb51f7da5f"
      },
      "outputs": [
        {
          "data": {
            "text/plain": [
              "array([[False,  True, False, False,  True],\n",
              "       [ True, False, False, False, False],\n",
              "       [ True, False, False, False, False],\n",
              "       [ True,  True,  True,  True,  True]])"
            ]
          },
          "execution_count": 94,
          "metadata": {},
          "output_type": "execute_result"
        }
      ],
      "source": [
        "#conditioning\n",
        "arr>50"
      ]
    },
    {
      "cell_type": "code",
      "execution_count": null,
      "id": "e10e5bb1",
      "metadata": {
        "id": "e10e5bb1",
        "outputId": "1b73b58f-e934-4fa5-a5f3-60fad52fa501"
      },
      "outputs": [
        {
          "data": {
            "text/plain": [
              "array([90, 71, 66, 68, 84, 84, 92, 61, 72])"
            ]
          },
          "execution_count": 95,
          "metadata": {},
          "output_type": "execute_result"
        }
      ],
      "source": [
        "#indexing using boolean array\n",
        "arr[arr>50]"
      ]
    },
    {
      "cell_type": "code",
      "execution_count": null,
      "id": "4924a27b",
      "metadata": {
        "id": "4924a27b",
        "outputId": "13c69476-c215-44bd-e22f-a91f81a2d1f8"
      },
      "outputs": [
        {
          "data": {
            "text/plain": [
              "array([71, 61])"
            ]
          },
          "execution_count": 96,
          "metadata": {},
          "output_type": "execute_result"
        }
      ],
      "source": [
        "arr[(arr>50)&(arr%2!=0)]"
      ]
    },
    {
      "cell_type": "code",
      "execution_count": null,
      "id": "9be16579",
      "metadata": {
        "id": "9be16579",
        "outputId": "63500e98-2907-405f-c529-01fae970c5af"
      },
      "outputs": [
        {
          "data": {
            "text/plain": [
              "array([[25, 90, 41, 25,  0],\n",
              "       [66, 25, 11, 41, 27],\n",
              "       [68, 38,  4, 26, 50],\n",
              "       [84, 84, 92,  0, 72]])"
            ]
          },
          "execution_count": 97,
          "metadata": {},
          "output_type": "execute_result"
        }
      ],
      "source": [
        "arr[(arr>50)&(arr%2!=0)]=0\n",
        "arr"
      ]
    },
    {
      "cell_type": "code",
      "execution_count": null,
      "id": "691c3e56",
      "metadata": {
        "id": "691c3e56",
        "outputId": "e95127cc-10f8-4833-880c-08506f2f44d3"
      },
      "outputs": [
        {
          "data": {
            "text/plain": [
              "array([-40.        , -39.19191919, -38.38383838, -37.57575758,\n",
              "       -36.76767677, -35.95959596, -35.15151515, -34.34343434,\n",
              "       -33.53535354, -32.72727273, -31.91919192, -31.11111111,\n",
              "       -30.3030303 , -29.49494949, -28.68686869, -27.87878788,\n",
              "       -27.07070707, -26.26262626, -25.45454545, -24.64646465,\n",
              "       -23.83838384, -23.03030303, -22.22222222, -21.41414141,\n",
              "       -20.60606061, -19.7979798 , -18.98989899, -18.18181818,\n",
              "       -17.37373737, -16.56565657, -15.75757576, -14.94949495,\n",
              "       -14.14141414, -13.33333333, -12.52525253, -11.71717172,\n",
              "       -10.90909091, -10.1010101 ,  -9.29292929,  -8.48484848,\n",
              "        -7.67676768,  -6.86868687,  -6.06060606,  -5.25252525,\n",
              "        -4.44444444,  -3.63636364,  -2.82828283,  -2.02020202,\n",
              "        -1.21212121,  -0.4040404 ,   0.4040404 ,   1.21212121,\n",
              "         2.02020202,   2.82828283,   3.63636364,   4.44444444,\n",
              "         5.25252525,   6.06060606,   6.86868687,   7.67676768,\n",
              "         8.48484848,   9.29292929,  10.1010101 ,  10.90909091,\n",
              "        11.71717172,  12.52525253,  13.33333333,  14.14141414,\n",
              "        14.94949495,  15.75757576,  16.56565657,  17.37373737,\n",
              "        18.18181818,  18.98989899,  19.7979798 ,  20.60606061,\n",
              "        21.41414141,  22.22222222,  23.03030303,  23.83838384,\n",
              "        24.64646465,  25.45454545,  26.26262626,  27.07070707,\n",
              "        27.87878788,  28.68686869,  29.49494949,  30.3030303 ,\n",
              "        31.11111111,  31.91919192,  32.72727273,  33.53535354,\n",
              "        34.34343434,  35.15151515,  35.95959596,  36.76767677,\n",
              "        37.57575758,  38.38383838,  39.19191919,  40.        ])"
            ]
          },
          "execution_count": 98,
          "metadata": {},
          "output_type": "execute_result"
        }
      ],
      "source": [
        "x=np.linspace(-40,40,100)\n",
        "x"
      ]
    },
    {
      "cell_type": "code",
      "execution_count": null,
      "id": "14dd55a7",
      "metadata": {
        "id": "14dd55a7",
        "outputId": "ced08e45-f7ad-445c-b0f3-cf17952c1a10"
      },
      "outputs": [
        {
          "data": {
            "text/plain": [
              "100"
            ]
          },
          "execution_count": 99,
          "metadata": {},
          "output_type": "execute_result"
        }
      ],
      "source": [
        "x.size"
      ]
    },
    {
      "cell_type": "code",
      "execution_count": null,
      "id": "77f70870",
      "metadata": {
        "id": "77f70870"
      },
      "outputs": [],
      "source": [
        "y=np.sin(x)"
      ]
    },
    {
      "cell_type": "code",
      "execution_count": null,
      "id": "706ad92a",
      "metadata": {
        "id": "706ad92a",
        "outputId": "03d983c8-8579-4b07-9d92-18b634d58b67"
      },
      "outputs": [
        {
          "data": {
            "text/plain": [
              "array([-0.74511316, -0.9969604 , -0.63246122,  0.12304167,  0.80247705,\n",
              "        0.98580059,  0.55967698, -0.21245326, -0.85323945, -0.96653119,\n",
              "       -0.48228862,  0.30011711,  0.89698277,  0.93931073,  0.40093277,\n",
              "       -0.38531209, -0.93334716, -0.90436313, -0.31627868,  0.46733734,\n",
              "        0.96203346,  0.86197589,  0.22902277, -0.54551809, -0.9828057 ,\n",
              "       -0.81249769, -0.13988282,  0.61921119,  0.995493  ,  0.75633557,\n",
              "        0.04959214, -0.68781042, -0.99999098, -0.69395153,  0.0411065 ,\n",
              "        0.75075145,  0.99626264,  0.62585878, -0.13146699, -0.8075165 ,\n",
              "       -0.98433866, -0.55261747,  0.22074597,  0.85763861,  0.96431712,\n",
              "        0.47483011, -0.30820902, -0.90070545, -0.93636273, -0.39313661,\n",
              "        0.39313661,  0.93636273,  0.90070545,  0.30820902, -0.47483011,\n",
              "       -0.96431712, -0.85763861, -0.22074597,  0.55261747,  0.98433866,\n",
              "        0.8075165 ,  0.13146699, -0.62585878, -0.99626264, -0.75075145,\n",
              "       -0.0411065 ,  0.69395153,  0.99999098,  0.68781042, -0.04959214,\n",
              "       -0.75633557, -0.995493  , -0.61921119,  0.13988282,  0.81249769,\n",
              "        0.9828057 ,  0.54551809, -0.22902277, -0.86197589, -0.96203346,\n",
              "       -0.46733734,  0.31627868,  0.90436313,  0.93334716,  0.38531209,\n",
              "       -0.40093277, -0.93931073, -0.89698277, -0.30011711,  0.48228862,\n",
              "        0.96653119,  0.85323945,  0.21245326, -0.55967698, -0.98580059,\n",
              "       -0.80247705, -0.12304167,  0.63246122,  0.9969604 ,  0.74511316])"
            ]
          },
          "execution_count": 101,
          "metadata": {},
          "output_type": "execute_result"
        }
      ],
      "source": [
        "y"
      ]
    },
    {
      "cell_type": "code",
      "execution_count": null,
      "id": "35e7f02a",
      "metadata": {
        "id": "35e7f02a"
      },
      "outputs": [],
      "source": [
        "import matplotlib.pyplot as plt\n",
        "%matplotlib inline"
      ]
    },
    {
      "cell_type": "code",
      "execution_count": null,
      "id": "279170c3",
      "metadata": {
        "id": "279170c3",
        "outputId": "0988f553-d3e4-4f8e-8dc4-cb108eb62ad9"
      },
      "outputs": [
        {
          "data": {
            "text/plain": [
              "[<matplotlib.lines.Line2D at 0x27e007ab940>]"
            ]
          },
          "execution_count": 103,
          "metadata": {},
          "output_type": "execute_result"
        },
        {
          "data": {
            "image/png": "[encoded data removed]",
            "text/plain": [
              "<Figure size 640x480 with 1 Axes>"
            ]
          },
          "metadata": {},
          "output_type": "display_data"
        }
      ],
      "source": [
        "plt.plot(x,y)"
      ]
    },
    {
      "cell_type": "code",
      "execution_count": null,
      "id": "4ad9d587",
      "metadata": {
        "id": "4ad9d587"
      },
      "outputs": [],
      "source": [
        "y=x*x+2*x"
      ]
    },
    {
      "cell_type": "code",
      "execution_count": null,
      "id": "63962929",
      "metadata": {
        "id": "63962929",
        "outputId": "975dc871-da77-427d-f920-d50b1ba4035b"
      },
      "outputs": [
        {
          "data": {
            "text/plain": [
              "[<matplotlib.lines.Line2D at 0x27e02a023b0>]"
            ]
          },
          "execution_count": 105,
          "metadata": {},
          "output_type": "execute_result"
        },
        {
          "data": {
            "image/png": "[encoded data removed]",
            "text/plain": [
              "<Figure size 640x480 with 1 Axes>"
            ]
          },
          "metadata": {},
          "output_type": "display_data"
        }
      ],
      "source": [
        "plt.plot(x,y)"
      ]
    },
    {
      "cell_type": "code",
      "execution_count": null,
      "id": "3e0417f9",
      "metadata": {
        "id": "3e0417f9",
        "outputId": "d3361375-1c54-45c9-9374-e5749f092d42"
      },
      "outputs": [
        {
          "data": {
            "text/plain": [
              "array([[ 0,  1,  2],\n",
              "       [ 3,  4,  5],\n",
              "       [ 6,  7,  8],\n",
              "       [ 9, 10, 11]])"
            ]
          },
          "execution_count": 106,
          "metadata": {},
          "output_type": "execute_result"
        }
      ],
      "source": [
        "#Broadcasting\n",
        "a5=np.arange(3).reshape(1,3)\n",
        "a6=np.arange(12).reshape(4,3)\n",
        "a5\n",
        "a6"
      ]
    },
    {
      "cell_type": "code",
      "execution_count": null,
      "id": "f620a138",
      "metadata": {
        "id": "f620a138",
        "outputId": "d2c28fe4-7459-49b0-c301-2a12aa7664b0"
      },
      "outputs": [
        {
          "data": {
            "text/plain": [
              "array([[ 0,  2,  4],\n",
              "       [ 3,  5,  7],\n",
              "       [ 6,  8, 10],\n",
              "       [ 9, 11, 13]])"
            ]
          },
          "execution_count": 107,
          "metadata": {},
          "output_type": "execute_result"
        }
      ],
      "source": [
        "a5+a6"
      ]
    },
    {
      "cell_type": "code",
      "execution_count": null,
      "id": "31c33151",
      "metadata": {
        "id": "31c33151",
        "outputId": "8fc71539-3592-4d27-bf08-19c0d4aded76"
      },
      "outputs": [
        {
          "name": "stdout",
          "output_type": "stream",
          "text": [
            "[[0 1 2]]\n"
          ]
        }
      ],
      "source": [
        "a11=np.arange(3).reshape(1,3)\n",
        "a12=np.arange(3).reshape(3,1)\n",
        "print(a11)"
      ]
    },
    {
      "cell_type": "code",
      "execution_count": null,
      "id": "5454ce89",
      "metadata": {
        "id": "5454ce89",
        "outputId": "516c0c81-df82-49e6-e77f-aec52d1e565b"
      },
      "outputs": [
        {
          "name": "stdout",
          "output_type": "stream",
          "text": [
            "[[0]\n",
            " [1]\n",
            " [2]]\n"
          ]
        }
      ],
      "source": [
        "print(a12)"
      ]
    },
    {
      "cell_type": "code",
      "execution_count": null,
      "id": "0fe5596a",
      "metadata": {
        "id": "0fe5596a",
        "outputId": "0d041af4-0c19-462c-8e79-f94266c7dd83"
      },
      "outputs": [
        {
          "data": {
            "text/plain": [
              "array([[0, 1, 2],\n",
              "       [1, 2, 3],\n",
              "       [2, 3, 4]])"
            ]
          },
          "execution_count": 110,
          "metadata": {},
          "output_type": "execute_result"
        }
      ],
      "source": [
        "a11+a12"
      ]
    },
    {
      "cell_type": "code",
      "execution_count": null,
      "id": "f84f6da1",
      "metadata": {
        "id": "f84f6da1",
        "outputId": "fdef398b-2ac8-4058-8aca-e762d91295a0"
      },
      "outputs": [
        {
          "name": "stdout",
          "output_type": "stream",
          "text": [
            "[0 1 2 3]\n",
            "[[ 0  1  2  3]\n",
            " [ 4  5  6  7]\n",
            " [ 8  9 10 11]\n",
            " [12 13 14 15]\n",
            " [16 17 18 19]]\n"
          ]
        }
      ],
      "source": [
        "a11=np.arange(4)\n",
        "a12=np.arange(20).reshape(5,4)\n",
        "print(a11)\n",
        "print(a12)"
      ]
    },
    {
      "cell_type": "code",
      "execution_count": null,
      "id": "3da25a18",
      "metadata": {
        "id": "3da25a18",
        "outputId": "13c76b46-a91f-4c79-812d-915d43c7e0c7"
      },
      "outputs": [
        {
          "data": {
            "text/plain": [
              "array([[ 0,  2,  4,  6,  4,  6,  8, 10,  8, 10, 12, 14, 12, 14, 16, 18,\n",
              "        16, 18, 20, 22]])"
            ]
          },
          "execution_count": 112,
          "metadata": {},
          "output_type": "execute_result"
        }
      ],
      "source": [
        "(a11+a12).reshape(1,20)"
      ]
    },
    {
      "cell_type": "code",
      "execution_count": null,
      "id": "66c5760c",
      "metadata": {
        "id": "66c5760c"
      },
      "outputs": [],
      "source": [
        "import numpy as np"
      ]
    },
    {
      "cell_type": "code",
      "execution_count": null,
      "id": "a402f494",
      "metadata": {
        "id": "a402f494",
        "outputId": "2eefda3a-6f77-486d-aaae-6e89e4716d92"
      },
      "outputs": [
        {
          "data": {
            "text/plain": [
              "0.3472631440935081"
            ]
          },
          "execution_count": 114,
          "metadata": {},
          "output_type": "execute_result"
        }
      ],
      "source": [
        "np.random.random()"
      ]
    },
    {
      "cell_type": "code",
      "execution_count": null,
      "id": "51427c40",
      "metadata": {
        "id": "51427c40",
        "outputId": "93c73640-7921-49e3-9a1b-878291955364"
      },
      "outputs": [
        {
          "data": {
            "text/plain": [
              "0.417022004702574"
            ]
          },
          "execution_count": 115,
          "metadata": {},
          "output_type": "execute_result"
        }
      ],
      "source": [
        "np.random.seed(1)     # In this case, the random value doesn't change.\n",
        "np.random.random()"
      ]
    },
    {
      "cell_type": "code",
      "execution_count": null,
      "id": "b843fa16",
      "metadata": {
        "id": "b843fa16",
        "outputId": "16ab946f-f369-4c78-c57a-745d81ce1a5d"
      },
      "outputs": [
        {
          "data": {
            "text/plain": [
              "72.31212485077366"
            ]
          },
          "execution_count": 116,
          "metadata": {},
          "output_type": "execute_result"
        }
      ],
      "source": [
        "np.random.uniform(1,100)"
      ]
    },
    {
      "cell_type": "code",
      "execution_count": null,
      "id": "fa072270",
      "metadata": {
        "id": "fa072270",
        "outputId": "9fd090dd-8946-4102-bf83-dc11af636c16"
      },
      "outputs": [
        {
          "data": {
            "text/plain": [
              "array([[ 1.01132311, 30.93092469],\n",
              "       [15.52883319, 10.14152088],\n",
              "       [19.43976093, 35.21051198],\n",
              "       [40.27997995, 54.34285667],\n",
              "       [42.50025693, 68.83673054]])"
            ]
          },
          "execution_count": 117,
          "metadata": {},
          "output_type": "execute_result"
        }
      ],
      "source": [
        "np.random.uniform(1,100,10).reshape(5,2)"
      ]
    },
    {
      "cell_type": "code",
      "execution_count": null,
      "id": "959508b2",
      "metadata": {
        "id": "959508b2",
        "outputId": "f43e4a72-a726-4ff5-cfec-de380c44f154"
      },
      "outputs": [
        {
          "data": {
            "text/plain": [
              "3"
            ]
          },
          "execution_count": 118,
          "metadata": {},
          "output_type": "execute_result"
        }
      ],
      "source": [
        "np.random.randint(1,10)"
      ]
    },
    {
      "cell_type": "code",
      "execution_count": null,
      "id": "bbd1b97d",
      "metadata": {
        "id": "bbd1b97d",
        "outputId": "35bbc19e-37d0-463f-87b5-47ee36e6133d"
      },
      "outputs": [
        {
          "data": {
            "text/plain": [
              "array([5, 8, 8, 2, 8, 1])"
            ]
          },
          "execution_count": 119,
          "metadata": {},
          "output_type": "execute_result"
        }
      ],
      "source": [
        "a=np.random.randint(1,10,6)\n",
        "a"
      ]
    },
    {
      "cell_type": "code",
      "execution_count": null,
      "id": "1c8e66aa",
      "metadata": {
        "id": "1c8e66aa",
        "outputId": "ab6edaa4-c8a9-41aa-8315-3489ed9071c3"
      },
      "outputs": [
        {
          "data": {
            "text/plain": [
              "array([[7, 8, 7, 2, 1],\n",
              "       [2, 9, 9, 4, 9],\n",
              "       [8, 4, 7, 6, 2]])"
            ]
          },
          "execution_count": 120,
          "metadata": {},
          "output_type": "execute_result"
        }
      ],
      "source": [
        "np.random.randint(1,10,15).reshape(3,5)#To get the integer"
      ]
    },
    {
      "cell_type": "code",
      "execution_count": null,
      "id": "d9cf261c",
      "metadata": {
        "id": "d9cf261c",
        "outputId": "8d64ab41-7d1b-40fa-8583-7b41c41f8a48"
      },
      "outputs": [
        {
          "data": {
            "text/plain": [
              "array([4, 5, 9, 2, 5, 1])"
            ]
          },
          "execution_count": 121,
          "metadata": {},
          "output_type": "execute_result"
        }
      ],
      "source": [
        "a=np.random.randint(1,10,6)\n",
        "a"
      ]
    },
    {
      "cell_type": "code",
      "execution_count": null,
      "id": "60bfc2d6",
      "metadata": {
        "id": "60bfc2d6",
        "outputId": "0ab31929-3521-4943-a4c8-15f82026c279"
      },
      "outputs": [
        {
          "data": {
            "text/plain": [
              "9"
            ]
          },
          "execution_count": 122,
          "metadata": {},
          "output_type": "execute_result"
        }
      ],
      "source": [
        "np.max(a)"
      ]
    },
    {
      "cell_type": "code",
      "execution_count": null,
      "id": "a9104bf5",
      "metadata": {
        "id": "a9104bf5",
        "outputId": "eafa8bdd-d138-4995-f40b-4e10a430a05e"
      },
      "outputs": [
        {
          "data": {
            "text/plain": [
              "1"
            ]
          },
          "execution_count": 123,
          "metadata": {},
          "output_type": "execute_result"
        }
      ],
      "source": [
        "a.min()"
      ]
    },
    {
      "cell_type": "code",
      "execution_count": null,
      "id": "b64222e0",
      "metadata": {
        "id": "b64222e0",
        "outputId": "7999a669-8fc6-48cd-e8c5-718680a86667"
      },
      "outputs": [
        {
          "data": {
            "text/plain": [
              "1"
            ]
          },
          "execution_count": 124,
          "metadata": {},
          "output_type": "execute_result"
        }
      ],
      "source": [
        "np.min(a)"
      ]
    },
    {
      "cell_type": "code",
      "execution_count": null,
      "id": "8b6aa385",
      "metadata": {
        "id": "8b6aa385",
        "outputId": "672d7122-41a6-40b2-9000-025f57392b9f"
      },
      "outputs": [
        {
          "data": {
            "text/plain": [
              "2"
            ]
          },
          "execution_count": 125,
          "metadata": {},
          "output_type": "execute_result"
        }
      ],
      "source": [
        "np.argmax(a)#This gives the index of the maximum number"
      ]
    },
    {
      "cell_type": "code",
      "execution_count": null,
      "id": "2045cff5",
      "metadata": {
        "id": "2045cff5",
        "outputId": "aac542aa-d093-428d-9fba-2b9fd89bd898"
      },
      "outputs": [
        {
          "data": {
            "text/plain": [
              "9"
            ]
          },
          "execution_count": 126,
          "metadata": {},
          "output_type": "execute_result"
        }
      ],
      "source": [
        "a[np.argmax(a)]"
      ]
    },
    {
      "cell_type": "code",
      "execution_count": null,
      "id": "5fd18ba0",
      "metadata": {
        "id": "5fd18ba0",
        "outputId": "aec4803e-82ba-45ed-fa8c-c0ccb1cdbf76"
      },
      "outputs": [
        {
          "data": {
            "text/plain": [
              "5"
            ]
          },
          "execution_count": 127,
          "metadata": {},
          "output_type": "execute_result"
        }
      ],
      "source": [
        "np.argmin(a)"
      ]
    },
    {
      "cell_type": "code",
      "execution_count": null,
      "id": "bc0c91c2",
      "metadata": {
        "id": "bc0c91c2",
        "outputId": "89cdd1f2-3861-42e1-8000-2b4b2dc30872"
      },
      "outputs": [
        {
          "data": {
            "text/plain": [
              "1"
            ]
          },
          "execution_count": 128,
          "metadata": {},
          "output_type": "execute_result"
        }
      ],
      "source": [
        "a[np.argmin(a)]"
      ]
    },
    {
      "cell_type": "code",
      "execution_count": null,
      "id": "32cf4df9",
      "metadata": {
        "id": "32cf4df9",
        "outputId": "aae2ee21-2f05-47a5-ffb6-b769335d71e0"
      },
      "outputs": [
        {
          "data": {
            "text/plain": [
              "array([4, 3, 1, 5, 3, 8])"
            ]
          },
          "execution_count": 129,
          "metadata": {},
          "output_type": "execute_result"
        }
      ],
      "source": [
        "a=np.random.randint(1,10,6)\n",
        "a"
      ]
    },
    {
      "cell_type": "code",
      "execution_count": null,
      "id": "37839ef9",
      "metadata": {
        "id": "37839ef9",
        "outputId": "95168796-1cf6-4124-c0eb-901acfef7938"
      },
      "outputs": [
        {
          "data": {
            "text/plain": [
              "array([ 4, -1, -1, -1, -1,  8])"
            ]
          },
          "execution_count": 130,
          "metadata": {},
          "output_type": "execute_result"
        }
      ],
      "source": [
        "a[a%2==1]=-1\n",
        "a\n"
      ]
    },
    {
      "cell_type": "code",
      "execution_count": null,
      "id": "c00562d2",
      "metadata": {
        "id": "c00562d2",
        "outputId": "7918c605-e34a-4b2e-c3c3-c9cc9ae2665d"
      },
      "outputs": [
        {
          "data": {
            "text/plain": [
              "array([ 8, 27, 26, 41, 23, 10])"
            ]
          },
          "execution_count": 131,
          "metadata": {},
          "output_type": "execute_result"
        }
      ],
      "source": [
        "a=np.random.randint(1,50,6)\n",
        "a\n"
      ]
    },
    {
      "cell_type": "code",
      "execution_count": null,
      "id": "6cf00411",
      "metadata": {
        "id": "6cf00411",
        "outputId": "587cfbac-d2af-4b3c-e917-e626a2334a3b"
      },
      "outputs": [
        {
          "data": {
            "text/plain": [
              "array([ 8, -1, 26, -1, -1, 10])"
            ]
          },
          "execution_count": 132,
          "metadata": {},
          "output_type": "execute_result"
        }
      ],
      "source": [
        "np.where(a%2==1,-1,a)"
      ]
    },
    {
      "cell_type": "code",
      "execution_count": null,
      "id": "fda1761a",
      "metadata": {
        "id": "fda1761a",
        "outputId": "c042113a-35a1-4491-9fa2-9a059af6bae5"
      },
      "outputs": [
        {
          "data": {
            "text/plain": [
              "array([ 4, 40, 24, 37, 28, 38])"
            ]
          },
          "execution_count": 133,
          "metadata": {},
          "output_type": "execute_result"
        }
      ],
      "source": [
        "a=np.random.randint(1,50,6)\n",
        "a"
      ]
    },
    {
      "cell_type": "code",
      "execution_count": null,
      "id": "ffc1d0ba",
      "metadata": {
        "id": "ffc1d0ba",
        "outputId": "4850d108-e832-4158-f453-6b46685e8297"
      },
      "outputs": [
        {
          "data": {
            "text/plain": [
              "array([ 4, 24, 28, 37, 38, 40])"
            ]
          },
          "execution_count": 134,
          "metadata": {},
          "output_type": "execute_result"
        }
      ],
      "source": [
        "a=np.sort(a)\n",
        "a"
      ]
    },
    {
      "cell_type": "code",
      "execution_count": null,
      "id": "c6386088",
      "metadata": {
        "id": "c6386088",
        "outputId": "fd053502-5c81-401d-bd7b-be0082125b29"
      },
      "outputs": [
        {
          "data": {
            "text/plain": [
              "array([ 4, 24, 28, 37, 38, 40])"
            ]
          },
          "execution_count": 135,
          "metadata": {},
          "output_type": "execute_result"
        }
      ],
      "source": [
        "a.sort()\n",
        "a"
      ]
    },
    {
      "cell_type": "code",
      "execution_count": null,
      "id": "b597b88e",
      "metadata": {
        "id": "b597b88e",
        "outputId": "86cd4502-f9af-41e2-9c91-cc39fa425ee1"
      },
      "outputs": [
        {
          "data": {
            "text/plain": [
              "40.0"
            ]
          },
          "execution_count": 136,
          "metadata": {},
          "output_type": "execute_result"
        }
      ],
      "source": [
        "np.percentile(a,100)"
      ]
    },
    {
      "cell_type": "code",
      "execution_count": null,
      "id": "f233f8ab",
      "metadata": {
        "id": "f233f8ab",
        "outputId": "018a12db-925a-4e99-97bb-a2d0313bfc91"
      },
      "outputs": [
        {
          "data": {
            "text/plain": [
              "array([ 58,  84, 167, 137,  33, 163,  11,  24, 144,  88,  26,  93,  75,\n",
              "       191,  47, 161, 152, 184,  66, 114,  78,   4, 129,   7,  53, 199,\n",
              "         3,  77, 150,   8,  78,  76,  77,  44,  21,  31,  37, 104,   8,\n",
              "        46, 197,  58,  97,  14,  11,  24, 125,  82, 136, 122])"
            ]
          },
          "execution_count": 137,
          "metadata": {},
          "output_type": "execute_result"
        }
      ],
      "source": [
        "a=np.random.randint(1,200,50)\n",
        "a"
      ]
    },
    {
      "cell_type": "code",
      "execution_count": null,
      "id": "50161061",
      "metadata": {
        "id": "50161061",
        "outputId": "52683ad6-536b-45c7-f278-f5da22adc40a"
      },
      "outputs": [
        {
          "data": {
            "text/plain": [
              "77.0"
            ]
          },
          "execution_count": 138,
          "metadata": {},
          "output_type": "execute_result"
        }
      ],
      "source": [
        "np.percentile(a,50)"
      ]
    }
  ],
  "metadata": {
    "kernelspec": {
      "display_name": "Python 3 (ipykernel)",
      "language": "python",
      "name": "python3"
    },
    "language_info": {
      "codemirror_mode": {
        "name": "ipython",
        "version": 3
      },
      "file_extension": ".py",
      "mimetype": "text/x-python",
      "name": "python",
      "nbconvert_exporter": "python",
      "pygments_lexer": "ipython3",
      "version": "3.11.5"
    },
    "colab": {
      "provenance": [],
      "include_colab_link": true
    }
  },
  "nbformat": 4,
  "nbformat_minor": 5
}