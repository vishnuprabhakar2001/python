{
  "cells": [
    {
      "cell_type": "markdown",
      "metadata": {
        "id": "view-in-github",
        "colab_type": "text"
      },
      "source": [
        "<a href=\"https://colab.research.google.com/github/vishnuprabhakar2001/python/blob/main/Python_Practice_1.ipynb\" target=\"_parent\"><img src=\"https://colab.research.google.com/assets/colab-badge.svg\" alt=\"Open In Colab\"/></a>"
      ]
    },
    {
      "cell_type": "code",
      "execution_count": null,
      "id": "37b7cb5c",
      "metadata": {
        "id": "37b7cb5c",
        "outputId": "7fc16acc-9986-469c-9fa2-1de18bcf1601"
      },
      "outputs": [
        {
          "name": "stdout",
          "output_type": "stream",
          "text": [
            "[11, 12, 13, 14, 14, 15, 16, 17]\n"
          ]
        }
      ],
      "source": [
        "li=[1,2,3,4,4,5,6,7]\n",
        "i=0\n",
        "while i<len(li):\n",
        "    li[i]=li[i]+10\n",
        "    i=i+1\n",
        "print(li)"
      ]
    },
    {
      "cell_type": "code",
      "execution_count": null,
      "id": "631dac04",
      "metadata": {
        "id": "631dac04",
        "outputId": "34227502-75f1-4875-8874-f559e600a076"
      },
      "outputs": [
        {
          "name": "stdout",
          "output_type": "stream",
          "text": [
            "[31, 32, 33, 34, 34, 35, 36, 37]\n"
          ]
        }
      ],
      "source": [
        "i=0\n",
        "for i in range(0,len(li)):\n",
        "    li[i]=li[i]+10\n",
        "print(li)\n",
        ""
      ]
    },
    {
      "cell_type": "code",
      "execution_count": null,
      "id": "0315d262",
      "metadata": {
        "id": "0315d262",
        "outputId": "9fe9250f-2755-4095-a91e-bd70ad0ce3f3"
      },
      "outputs": [
        {
          "name": "stdout",
          "output_type": "stream",
          "text": [
            "Enter a number to be checked:9\n",
            "9  is positive number \n"
          ]
        }
      ],
      "source": [
        "num=int(input(\"Enter a number to be checked:\"))\n",
        "if num>0:\n",
        "    print(num ,\" is positive number \")\n",
        "elif num==0:\n",
        "    print(\"Its Zero\")\n",
        "else:\n",
        "    print(num, \" is Negative number.\")"
      ]
    },
    {
      "cell_type": "code",
      "execution_count": null,
      "id": "9b2d6ef3",
      "metadata": {
        "id": "9b2d6ef3",
        "outputId": "81382a23-5d9d-4f08-bea9-326845439407"
      },
      "outputs": [
        {
          "name": "stdout",
          "output_type": "stream",
          "text": [
            "Enter a number to be factorised:6\n",
            "Factorial of  6 is: 720\n"
          ]
        }
      ],
      "source": [
        "# Factorisaton\n",
        "num=int(input(\"Enter a number to be factorised:\"))\n",
        "if num<0:\n",
        "    print(\"Negarive no. has no factorial.\")\n",
        "elif num==0:\n",
        "    print(\"Factorial of Zero is \",num)\n",
        "else:\n",
        "    i=1\n",
        "    factorial=1\n",
        "    while i<=num:\n",
        "        factorial=factorial*i\n",
        "        i=i+1\n",
        "    print(\"Factorial of \",num, \"is:\",factorial)"
      ]
    },
    {
      "cell_type": "code",
      "execution_count": null,
      "id": "7997d4ca",
      "metadata": {
        "id": "7997d4ca",
        "outputId": "20af3e2a-a3ac-4a5c-c3a0-379ac79c7da8"
      },
      "outputs": [
        {
          "name": "stdout",
          "output_type": "stream",
          "text": [
            "Enter a number:345\n",
            "Reverse of the given  no. is  543\n"
          ]
        }
      ],
      "source": [
        "# Finding a reverse number\n",
        "num=int(input(\"Enter a number:\"))\n",
        "rev=0\n",
        "while (num>0):\n",
        "    dig=num%10\n",
        "    rev=rev*10+dig\n",
        "    num=num//10\n",
        "print(\"Reverse of the given  no. is \",rev)"
      ]
    },
    {
      "cell_type": "code",
      "execution_count": null,
      "id": "17db8403",
      "metadata": {
        "id": "17db8403",
        "outputId": "ec920453-fca0-4503-d482-c36afdc4115c"
      },
      "outputs": [
        {
          "name": "stdout",
          "output_type": "stream",
          "text": [
            "Enter a number:5544322\n",
            "2234455\n"
          ]
        }
      ],
      "source": [
        "# Calculating reverse number, * // gives integer quotient.\n",
        "n=int(input(\"Enter a number:\"))\n",
        "rev=0\n",
        "while(n>0):\n",
        "    dig=n%10\n",
        "    rev=rev*10+dig\n",
        "    n=n//10\n",
        "print(rev)"
      ]
    },
    {
      "cell_type": "code",
      "execution_count": null,
      "id": "2e28db79",
      "metadata": {
        "id": "2e28db79",
        "outputId": "b78861de-441a-47b3-ef53-7b57055ad3b9"
      },
      "outputs": [
        {
          "data": {
            "text/plain": [
              "1"
            ]
          },
          "execution_count": 79,
          "metadata": {},
          "output_type": "execute_result"
        }
      ],
      "source": [
        "#**\n",
        "19//10"
      ]
    },
    {
      "cell_type": "code",
      "execution_count": null,
      "id": "fac52ba7",
      "metadata": {
        "id": "fac52ba7"
      },
      "outputs": [],
      "source": [
        "# Function\n",
        "def name():\n",
        "    print(\"My name is Chris.\")"
      ]
    },
    {
      "cell_type": "code",
      "execution_count": null,
      "id": "9515b103",
      "metadata": {
        "id": "9515b103",
        "outputId": "09558a2a-958f-41b9-970e-4b161dc609d8"
      },
      "outputs": [
        {
          "name": "stdout",
          "output_type": "stream",
          "text": [
            "Enter a number:123\n",
            "Given number is not palindrome:\n"
          ]
        }
      ],
      "source": [
        "# Checking Palindrome or not\n",
        "n=int(input(\"Enter a number:\"))\n",
        "num=n\n",
        "rev=0\n",
        "while(n>0):\n",
        "    dig=n%10\n",
        "    rev=rev*10+dig\n",
        "    n=n//10\n",
        "if num==rev:\n",
        "    print(\"Given number is palindrome:\")\n",
        "else:\n",
        "    print(\"Given number is not palindrome:\")"
      ]
    },
    {
      "cell_type": "code",
      "execution_count": null,
      "id": "e11b3b8d",
      "metadata": {
        "id": "e11b3b8d",
        "outputId": "a8700154-e256-4e4e-88c9-a13797cec06b"
      },
      "outputs": [
        {
          "name": "stdout",
          "output_type": "stream",
          "text": [
            "Enter a number for fabonacci series:7\n",
            "0\n",
            "1\n",
            "1\n",
            "2\n",
            "3\n",
            "5\n",
            "8\n",
            "sum of fabonacci series: 8\n"
          ]
        }
      ],
      "source": [
        "# Fabonacci Series\n",
        "num=int(input(\"Enter a number for fabonacci series:\"))\n",
        "if num<0:\n",
        "    print(\"Incorrect Input.\")\n",
        "elif num==0:\n",
        "    print(\"Its output would be \",0)\n",
        "elif num>0:\n",
        "    a=0\n",
        "    b=1\n",
        "    print(a)\n",
        "    print(b)\n",
        "    for i in range(2,num):\n",
        "        c=a+b\n",
        "        a=b\n",
        "        b=c\n",
        "        print(b)\n",
        "    print(\"sum of fabonacci series:\",b)\n",
        "\n",
        ""
      ]
    },
    {
      "cell_type": "code",
      "execution_count": null,
      "id": "5492c3b5",
      "metadata": {
        "id": "5492c3b5"
      },
      "outputs": [],
      "source": [
        "def sum(x):\n",
        "    c=10+x\n",
        "    return print(c)"
      ]
    },
    {
      "cell_type": "code",
      "execution_count": null,
      "id": "f666c6b2",
      "metadata": {
        "id": "f666c6b2",
        "outputId": "645ab9e1-4b33-4770-a037-2d8dd7f0abcd"
      },
      "outputs": [
        {
          "name": "stdout",
          "output_type": "stream",
          "text": [
            "16\n"
          ]
        }
      ],
      "source": [
        "sum(6)"
      ]
    },
    {
      "cell_type": "code",
      "execution_count": null,
      "id": "9f35a6b8",
      "metadata": {
        "id": "9f35a6b8"
      },
      "outputs": [],
      "source": [
        "def my_id(fname,lname):\n",
        "    print(fname,\"\",lname);"
      ]
    },
    {
      "cell_type": "code",
      "execution_count": null,
      "id": "df48f0e5",
      "metadata": {
        "id": "df48f0e5",
        "outputId": "701fadd1-1bb0-41eb-b440-be6bd2ac46bc"
      },
      "outputs": [
        {
          "name": "stdout",
          "output_type": "stream",
          "text": [
            "vishnu  Prabhaar\n"
          ]
        }
      ],
      "source": [
        "my_id(\"vishnu\",\"Prabhaar\")"
      ]
    },
    {
      "cell_type": "code",
      "execution_count": null,
      "id": "94b66709",
      "metadata": {
        "id": "94b66709"
      },
      "outputs": [],
      "source": [
        "def my_id(*kinds):\n",
        "    print(kinds[1])"
      ]
    },
    {
      "cell_type": "code",
      "execution_count": null,
      "id": "f9f5aa8e",
      "metadata": {
        "id": "f9f5aa8e",
        "outputId": "06b070a7-eba9-4092-fbaa-7ec33904d638"
      },
      "outputs": [
        {
          "name": "stdout",
          "output_type": "stream",
          "text": [
            "Mahesh\n"
          ]
        }
      ],
      "source": [
        "my_id(\"Deepak\",\"Mahesh\",\"sanjay\")"
      ]
    },
    {
      "cell_type": "code",
      "execution_count": null,
      "id": "d59ad077",
      "metadata": {
        "id": "d59ad077"
      },
      "outputs": [],
      "source": [
        "class phone:\n",
        "    def set_color(self,color):\n",
        "        self.color=color\n",
        "    def set_cost(self,cost):\n",
        "        self.cost=cost\n",
        "    def show_color(self):\n",
        "        return print(\"Color is:\",self.color)\n",
        "    def show_cost(self):\n",
        "        return print(\"Cost is:\",self.cost)"
      ]
    },
    {
      "cell_type": "code",
      "execution_count": null,
      "id": "06c94cc5",
      "metadata": {
        "id": "06c94cc5",
        "outputId": "ba2ada8b-2fe6-4ecb-c351-9e0a054ca470"
      },
      "outputs": [
        {
          "name": "stdout",
          "output_type": "stream",
          "text": [
            "Cost is: 122\n",
            "Color is: Blue\n"
          ]
        }
      ],
      "source": [
        "p=phone()\n",
        "p.set_color(\"Blue\")\n",
        "p.set_cost(122)\n",
        "p.show_cost()\n",
        "p.show_color()"
      ]
    },
    {
      "cell_type": "code",
      "execution_count": null,
      "id": "14b4c884",
      "metadata": {
        "id": "14b4c884"
      },
      "outputs": [],
      "source": [
        "class employee:\n",
        "    def __init__(self,name,age,salary):\n",
        "        self.name=name\n",
        "        self.age=age\n",
        "        self.salary=salary\n",
        "\n",
        "    def show_details(self):\n",
        "        print(\"The name:\",self.name)\n",
        "        print(\"The age:\",self.age)\n",
        "        print(\"The salary\",self.salary)\n",
        ""
      ]
    },
    {
      "cell_type": "code",
      "execution_count": null,
      "id": "8d044ec2",
      "metadata": {
        "id": "8d044ec2"
      },
      "outputs": [],
      "source": [
        "e=employee(\"vikash\",20,200000)"
      ]
    },
    {
      "cell_type": "code",
      "execution_count": null,
      "id": "b08abf83",
      "metadata": {
        "id": "b08abf83",
        "outputId": "f32d3463-3684-4b83-d81f-355b2aa2b91c"
      },
      "outputs": [
        {
          "ename": "NameError",
          "evalue": "name 'e' is not defined",
          "output_type": "error",
          "traceback": [
            "\u001b[1;31m---------------------------------------------------------------------------\u001b[0m",
            "\u001b[1;31mNameError\u001b[0m                                 Traceback (most recent call last)",
            "Cell \u001b[1;32mIn[2], line 1\u001b[0m\n\u001b[1;32m----> 1\u001b[0m e\u001b[38;5;241m.\u001b[39mshow_details()\n",
            "\u001b[1;31mNameError\u001b[0m: name 'e' is not defined"
          ]
        }
      ],
      "source": [
        "e.show_details()"
      ]
    },
    {
      "cell_type": "code",
      "execution_count": null,
      "id": "9515a490",
      "metadata": {
        "id": "9515a490",
        "outputId": "c134fe70-fba9-4af2-e00b-505627a2a62a"
      },
      "outputs": [
        {
          "ename": "ModuleNotFoundError",
          "evalue": "No module named 'calender'",
          "output_type": "error",
          "traceback": [
            "\u001b[1;31m---------------------------------------------------------------------------\u001b[0m",
            "\u001b[1;31mModuleNotFoundError\u001b[0m                       Traceback (most recent call last)",
            "Cell \u001b[1;32mIn[4], line 1\u001b[0m\n\u001b[1;32m----> 1\u001b[0m \u001b[38;5;28;01mimport\u001b[39;00m \u001b[38;5;21;01mcalender\u001b[39;00m\n\u001b[0;32m      2\u001b[0m \u001b[38;5;28;01mfrom\u001b[39;00m \u001b[38;5;21;01mcalender\u001b[39;00m \u001b[38;5;28;01mimport\u001b[39;00m \u001b[38;5;241m*\u001b[39m\n\u001b[0;32m      3\u001b[0m year\u001b[38;5;241m=\u001b[39m\u001b[38;5;28mint\u001b[39m(\u001b[38;5;28minput\u001b[39m(\u001b[38;5;124m\"\u001b[39m\u001b[38;5;124mEnter Year: \u001b[39m\u001b[38;5;124m\"\u001b[39m))\n",
            "\u001b[1;31mModuleNotFoundError\u001b[0m: No module named 'calender'"
          ]
        }
      ],
      "source": [
        "import calender\n",
        "from calender import *\n",
        "year=int(input(\"Enter Year: \"))\n",
        "print(calender(year))\n"
      ]
    }
  ],
  "metadata": {
    "kernelspec": {
      "display_name": "Python 3 (ipykernel)",
      "language": "python",
      "name": "python3"
    },
    "language_info": {
      "codemirror_mode": {
        "name": "ipython",
        "version": 3
      },
      "file_extension": ".py",
      "mimetype": "text/x-python",
      "name": "python",
      "nbconvert_exporter": "python",
      "pygments_lexer": "ipython3",
      "version": "3.11.5"
    },
    "colab": {
      "provenance": [],
      "include_colab_link": true
    }
  },
  "nbformat": 4,
  "nbformat_minor": 5
}