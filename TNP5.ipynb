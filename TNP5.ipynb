{
  "nbformat": 4,
  "nbformat_minor": 0,
  "metadata": {
    "colab": {
      "provenance": [],
      "authorship_tag": "ABX9TyPtcZiDkbXsFdx2kWRFrFHx",
      "include_colab_link": true
    },
    "kernelspec": {
      "name": "python3",
      "display_name": "Python 3"
    },
    "language_info": {
      "name": "python"
    }
  },
  "cells": [
    {
      "cell_type": "markdown",
      "metadata": {
        "id": "view-in-github",
        "colab_type": "text"
      },
      "source": [
        "<a href=\"https://colab.research.google.com/github/vishnuprabhakar2001/python/blob/main/TNP5.ipynb\" target=\"_parent\"><img src=\"https://colab.research.google.com/assets/colab-badge.svg\" alt=\"Open In Colab\"/></a>"
      ]
    },
    {
      "cell_type": "code",
      "source": [
        "#logical and operator\n",
        "a=10\n",
        "b=20\n",
        "c=30\n",
        "d=a<b and b<c\n",
        "print(d)"
      ],
      "metadata": {
        "id": "Iibzhtb-OJiO",
        "colab": {
          "base_uri": "https://localhost:8080/"
        },
        "outputId": "b4fd9c1b-1226-4bc9-9fb8-d6da69ca8053"
      },
      "execution_count": null,
      "outputs": [
        {
          "output_type": "stream",
          "name": "stdout",
          "text": [
            "True\n"
          ]
        }
      ]
    },
    {
      "cell_type": "code",
      "source": [
        "# logical or operator\n",
        "a=10\n",
        "b=20\n",
        "c=30\n",
        "d=a>b or b<c\n",
        "print(d)"
      ],
      "metadata": {
        "colab": {
          "base_uri": "https://localhost:8080/"
        },
        "id": "H3_e-gxGUngM",
        "outputId": "c02fb54b-a7f6-4c7c-8f73-91e5dba3e566"
      },
      "execution_count": null,
      "outputs": [
        {
          "output_type": "stream",
          "name": "stdout",
          "text": [
            "True\n"
          ]
        }
      ]
    },
    {
      "cell_type": "code",
      "source": [
        "# logical not opetator\n",
        "a=10\n",
        "b=20\n",
        "c=30\n",
        "d=not(a<b and b>c)\n",
        "print(d)\n"
      ],
      "metadata": {
        "colab": {
          "base_uri": "https://localhost:8080/"
        },
        "id": "pDAyLKLxVL4R",
        "outputId": "e4a01c27-2fc6-4dcb-d7ba-90be78b6d902"
      },
      "execution_count": null,
      "outputs": [
        {
          "output_type": "stream",
          "name": "stdout",
          "text": [
            "True\n"
          ]
        }
      ]
    },
    {
      "cell_type": "code",
      "source": [
        "# Bitwise or operator\n",
        "x=5\n",
        "y=7\n",
        "z=x|y\n",
        "print(z)"
      ],
      "metadata": {
        "colab": {
          "base_uri": "https://localhost:8080/"
        },
        "id": "p51AA8d_Ua9o",
        "outputId": "6f681232-e5f8-44d4-bee1-65867476111a"
      },
      "execution_count": null,
      "outputs": [
        {
          "output_type": "stream",
          "name": "stdout",
          "text": [
            "7\n"
          ]
        }
      ]
    },
    {
      "cell_type": "code",
      "source": [
        "x=5\n",
        "b=7\n",
        "c=x|b\n",
        "print(c)"
      ],
      "metadata": {
        "colab": {
          "base_uri": "https://localhost:8080/"
        },
        "id": "aeGalacRAedE",
        "outputId": "e7ae3c51-6582-46c1-d563-c534a23796f3"
      },
      "execution_count": null,
      "outputs": [
        {
          "output_type": "stream",
          "name": "stdout",
          "text": [
            "7\n"
          ]
        }
      ]
    },
    {
      "cell_type": "code",
      "source": [
        "#bitwise  not operator\n",
        "a=4\n",
        "b=~a\n",
        "print(b)\n",
        "\n"
      ],
      "metadata": {
        "colab": {
          "base_uri": "https://localhost:8080/"
        },
        "id": "Dn9GKiQX_1kR",
        "outputId": "fc8eb170-ca33-42b6-b8f4-a2915675a4cd"
      },
      "execution_count": null,
      "outputs": [
        {
          "output_type": "stream",
          "name": "stdout",
          "text": [
            "-5\n"
          ]
        }
      ]
    },
    {
      "cell_type": "code",
      "source": [
        "a=-10\n",
        "b=~a\n",
        "print(b)"
      ],
      "metadata": {
        "colab": {
          "base_uri": "https://localhost:8080/"
        },
        "id": "UNi_A1aSBg_S",
        "outputId": "94aab094-b11a-4918-d925-7e06ec91851b"
      },
      "execution_count": null,
      "outputs": [
        {
          "output_type": "stream",
          "name": "stdout",
          "text": [
            "9\n"
          ]
        }
      ]
    },
    {
      "cell_type": "code",
      "source": [
        "# Bitwise left shift opetator <<\n",
        "x=4\n",
        "y=x<<1\n",
        "print(y)\n",
        "print(x<<2)\n",
        "print(x<<3)"
      ],
      "metadata": {
        "colab": {
          "base_uri": "https://localhost:8080/"
        },
        "id": "5AATNau9D6RZ",
        "outputId": "9e8d986b-5ba7-4508-f1f0-914dcf49f377"
      },
      "execution_count": null,
      "outputs": [
        {
          "output_type": "stream",
          "name": "stdout",
          "text": [
            "8\n",
            "16\n",
            "32\n"
          ]
        }
      ]
    },
    {
      "cell_type": "code",
      "source": [],
      "metadata": {
        "id": "khB2rOCBEWc3"
      },
      "execution_count": null,
      "outputs": []
    },
    {
      "cell_type": "code",
      "source": [
        "# Bitwode right  shift operator >>\n",
        "x=8\n",
        "y=x>>1\n",
        "print(y)\n",
        "print(x>>2)\n",
        "print(x>>3)\n",
        "print(x>>4)\n",
        "print(x>>5)\n"
      ],
      "metadata": {
        "colab": {
          "base_uri": "https://localhost:8080/"
        },
        "id": "-mKWSxmTEPN_",
        "outputId": "95680536-59a8-4f7d-87fb-f12871ae2fe5"
      },
      "execution_count": null,
      "outputs": [
        {
          "output_type": "stream",
          "name": "stdout",
          "text": [
            "4\n",
            "2\n",
            "1\n",
            "0\n",
            "0\n"
          ]
        }
      ]
    },
    {
      "cell_type": "code",
      "source": [
        "# Bitwise XOR(^) operator\n",
        "a=7\n",
        "b=5\n",
        "c=a^b\n",
        "print(c)"
      ],
      "metadata": {
        "colab": {
          "base_uri": "https://localhost:8080/"
        },
        "id": "xdpqi3w_FVo1",
        "outputId": "935afa08-3f26-48cd-bf3d-a3e02d0a9b7f"
      },
      "execution_count": null,
      "outputs": [
        {
          "output_type": "stream",
          "name": "stdout",
          "text": [
            "2\n"
          ]
        }
      ]
    },
    {
      "cell_type": "code",
      "source": [
        "# prigram to swap two  variables using Bitwise xor operator\n",
        "#Before seapping\n",
        "a=7\n",
        "b=5\n",
        "(b^a)\n",
        "a=((a^b)+3)\n",
        "b=((a^b)+5)\n",
        "print(a,b)"
      ],
      "metadata": {
        "colab": {
          "base_uri": "https://localhost:8080/"
        },
        "id": "GK3V3EqSGkar",
        "outputId": "e446f3cd-4ae7-411e-b82f-9384d46da0b1"
      },
      "execution_count": null,
      "outputs": [
        {
          "output_type": "stream",
          "name": "stdout",
          "text": [
            "5 5\n"
          ]
        }
      ]
    },
    {
      "cell_type": "code",
      "source": [
        "a=7\n",
        "b=5\n",
        "print(\"Before swapping :\")\n",
        "\n"
      ],
      "metadata": {
        "id": "sHCOXCeZImrG"
      },
      "execution_count": null,
      "outputs": []
    },
    {
      "cell_type": "code",
      "source": [
        "# Explaining if statement in python\n",
        "# Python program for explaining if\n",
        "n1=10\n",
        "n2=10\n",
        "if n1<=n2:\n",
        "  print(\"n1 is greater\")\n",
        "if n1>=n2:\n",
        "  print(\"n2 is greater\") \n",
        "if n1==n2:\n",
        "  print(\"n1 is equal to n2\")   "
      ],
      "metadata": {
        "colab": {
          "base_uri": "https://localhost:8080/"
        },
        "id": "1keETwMvDN7J",
        "outputId": "52265890-9d32-459c-e7f0-ec54785ac0b9"
      },
      "execution_count": null,
      "outputs": [
        {
          "output_type": "stream",
          "name": "stdout",
          "text": [
            "n1 is greater\n",
            "n2 is greater\n",
            "n1 is equal to n2\n"
          ]
        }
      ]
    },
    {
      "cell_type": "code",
      "source": [
        "# Explaining if else statement\n",
        "n=int(input(\"Enter any number: \"))\n",
        "if n%2==0:\n",
        "  print(\"Entered number is even\")\n",
        "else :\n",
        "  print(\"Entered number is odd\")"
      ],
      "metadata": {
        "colab": {
          "base_uri": "https://localhost:8080/"
        },
        "id": "p3FXOd1JFopl",
        "outputId": "f65f14fb-0275-4cf6-b8dd-3c2c169debf0"
      },
      "execution_count": null,
      "outputs": [
        {
          "output_type": "stream",
          "name": "stdout",
          "text": [
            "Enter any number: 6\n",
            "Entered number is even\n"
          ]
        }
      ]
    },
    {
      "cell_type": "code",
      "source": [
        "# program to check given character is vowel or not\n",
        "l=(input(\"Enter a letter \"))\n",
        "if l==\"a\" or l==\"e\"or l==\"i\"or l==\"o\"or l== \"u\"or l==\"A\" or l==\"E\" or l==\"I\" or l==\"O\" or l==\"U\"b:\n",
        "  print(\"Entered character is vowel\")\n",
        "else :\n",
        "  print(\"Entered character is consonant\")\n"
      ],
      "metadata": {
        "colab": {
          "base_uri": "https://localhost:8080/",
          "height": 130
        },
        "id": "A5yOP_5QHdp2",
        "outputId": "e8acbbfb-9505-48d9-ea7e-dea3088172a2"
      },
      "execution_count": null,
      "outputs": [
        {
          "output_type": "error",
          "ename": "SyntaxError",
          "evalue": "ignored",
          "traceback": [
            "\u001b[0;36m  File \u001b[0;32m\"<ipython-input-13-85ef4ab2b070>\"\u001b[0;36m, line \u001b[0;32m3\u001b[0m\n\u001b[0;31m    if l==\"a\" or l==\"e\"or l==\"i\"or l==\"o\"or l== \"u\"or l==\"A\" or l== :\u001b[0m\n\u001b[0m                                                                    ^\u001b[0m\n\u001b[0;31mSyntaxError\u001b[0m\u001b[0;31m:\u001b[0m invalid syntax\n"
          ]
        }
      ]
    },
    {
      "cell_type": "code",
      "source": [
        "# elif '\n",
        "ch=input(\"Enter a character\")\n",
        "if ch>='A' and ch<='Z':\n",
        "  print(\"Upper case\")\n",
        "elif ch>='a' and ch<='z':\n",
        "  print(\"Lower case\")\n",
        "else :\n",
        "  print(\"Not an alphabet\")   "
      ],
      "metadata": {
        "colab": {
          "base_uri": "https://localhost:8080/"
        },
        "id": "OplcOiXkKX0T",
        "outputId": "e35073af-a54f-4850-ea5c-b36e9651c776"
      },
      "execution_count": null,
      "outputs": [
        {
          "output_type": "stream",
          "name": "stdout",
          "text": [
            "Enter a character32\n",
            "Not an alphabet\n"
          ]
        }
      ]
    },
    {
      "cell_type": "code",
      "source": [],
      "metadata": {
        "id": "J26gQR_7Ey79"
      },
      "execution_count": null,
      "outputs": []
    }
  ]
}